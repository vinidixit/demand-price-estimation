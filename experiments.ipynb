{
 "cells": [
  {
   "cell_type": "code",
   "execution_count": 40,
   "metadata": {},
   "outputs": [],
   "source": [
    "import pandas as pd\n",
    "import seaborn as sns\n",
    "import matplotlib.pyplot as plt\n",
    "import calendar"
   ]
  },
  {
   "cell_type": "code",
   "execution_count": 5,
   "metadata": {},
   "outputs": [
    {
     "data": {
      "text/html": [
       "<div>\n",
       "<style scoped>\n",
       "    .dataframe tbody tr th:only-of-type {\n",
       "        vertical-align: middle;\n",
       "    }\n",
       "\n",
       "    .dataframe tbody tr th {\n",
       "        vertical-align: top;\n",
       "    }\n",
       "\n",
       "    .dataframe thead th {\n",
       "        text-align: right;\n",
       "    }\n",
       "</style>\n",
       "<table border=\"1\" class=\"dataframe\">\n",
       "  <thead>\n",
       "    <tr style=\"text-align: right;\">\n",
       "      <th></th>\n",
       "      <th>Dep_Date</th>\n",
       "      <th>Days_to_Depart</th>\n",
       "      <th>Price</th>\n",
       "      <th>Comptt_Price_Median</th>\n",
       "      <th>Bookings</th>\n",
       "    </tr>\n",
       "  </thead>\n",
       "  <tbody>\n",
       "    <tr>\n",
       "      <th>0</th>\n",
       "      <td>2011-01-01</td>\n",
       "      <td>60</td>\n",
       "      <td>7541.0</td>\n",
       "      <td>7529.91</td>\n",
       "      <td>3.0</td>\n",
       "    </tr>\n",
       "    <tr>\n",
       "      <th>1</th>\n",
       "      <td>2011-01-02</td>\n",
       "      <td>60</td>\n",
       "      <td>5032.0</td>\n",
       "      <td>4625.46</td>\n",
       "      <td>4.0</td>\n",
       "    </tr>\n",
       "    <tr>\n",
       "      <th>2</th>\n",
       "      <td>2011-01-03</td>\n",
       "      <td>60</td>\n",
       "      <td>5032.0</td>\n",
       "      <td>5058.02</td>\n",
       "      <td>3.0</td>\n",
       "    </tr>\n",
       "    <tr>\n",
       "      <th>3</th>\n",
       "      <td>2011-01-04</td>\n",
       "      <td>60</td>\n",
       "      <td>5039.0</td>\n",
       "      <td>4988.24</td>\n",
       "      <td>10.0</td>\n",
       "    </tr>\n",
       "    <tr>\n",
       "      <th>4</th>\n",
       "      <td>2011-01-05</td>\n",
       "      <td>60</td>\n",
       "      <td>5055.0</td>\n",
       "      <td>5269.14</td>\n",
       "      <td>10.0</td>\n",
       "    </tr>\n",
       "  </tbody>\n",
       "</table>\n",
       "</div>"
      ],
      "text/plain": [
       "    Dep_Date  Days_to_Depart   Price  Comptt_Price_Median  Bookings\n",
       "0 2011-01-01              60  7541.0              7529.91       3.0\n",
       "1 2011-01-02              60  5032.0              4625.46       4.0\n",
       "2 2011-01-03              60  5032.0              5058.02       3.0\n",
       "3 2011-01-04              60  5039.0              4988.24      10.0\n",
       "4 2011-01-05              60  5055.0              5269.14      10.0"
      ]
     },
     "execution_count": 5,
     "metadata": {},
     "output_type": "execute_result"
    }
   ],
   "source": [
    "df = pd.read_csv('Flight_Pricing_OneFlight.csv', parse_dates=['Dep_Date'])\n",
    "df.head()"
   ]
  },
  {
   "cell_type": "code",
   "execution_count": 96,
   "metadata": {},
   "outputs": [],
   "source": [
    "df['year'] = df.Dep_Date.apply(lambda x: x.year)"
   ]
  },
  {
   "cell_type": "code",
   "execution_count": 8,
   "metadata": {},
   "outputs": [
    {
     "data": {
      "text/plain": [
       "1"
      ]
     },
     "execution_count": 8,
     "metadata": {},
     "output_type": "execute_result"
    }
   ],
   "source": [
    "df.Dep_Date.iloc[0].day"
   ]
  },
  {
   "cell_type": "code",
   "execution_count": 10,
   "metadata": {},
   "outputs": [
    {
     "data": {
      "text/plain": [
       "<matplotlib.collections.PathCollection at 0x14d900d2c18>"
      ]
     },
     "execution_count": 10,
     "metadata": {},
     "output_type": "execute_result"
    },
    {
     "data": {
      "image/png": "[encoded data removed]",
      "text/plain": [
       "<Figure size 432x288 with 1 Axes>"
      ]
     },
     "metadata": {
      "needs_background": "light"
     },
     "output_type": "display_data"
    }
   ],
   "source": [
    "plt.scatter(df.Dep_Date, df.Price)"
   ]
  },
  {
   "cell_type": "code",
   "execution_count": 103,
   "metadata": {},
   "outputs": [
    {
     "data": {
      "text/plain": [
       "2015"
      ]
     },
     "execution_count": 103,
     "metadata": {},
     "output_type": "execute_result"
    }
   ],
   "source": [
    "max(df.year)"
   ]
  },
  {
   "cell_type": "code",
   "execution_count": 107,
   "metadata": {},
   "outputs": [],
   "source": [
    "base_price_df = df[df.Days_to_Depart==60]"
   ]
  },
  {
   "cell_type": "code",
   "execution_count": 111,
   "metadata": {},
   "outputs": [
    {
     "data": {
      "text/plain": [
       "<matplotlib.collections.PathCollection at 0x14da01e3b00>"
      ]
     },
     "execution_count": 111,
     "metadata": {},
     "output_type": "execute_result"
    },
    {
     "data": {
      "image/png": "[encoded data removed]",
      "text/plain": [
       "<Figure size 432x288 with 1 Axes>"
      ]
     },
     "metadata": {
      "needs_background": "light"
     },
     "output_type": "display_data"
    }
   ],
   "source": [
    "plt.scatter(base_price_df.month, base_price_df.Price)"
   ]
  },
  {
   "cell_type": "code",
   "execution_count": 112,
   "metadata": {},
   "outputs": [
    {
     "data": {
      "text/plain": [
       "<matplotlib.collections.PathCollection at 0x14da19c4518>"
      ]
     },
     "execution_count": 112,
     "metadata": {},
     "output_type": "execute_result"
    },
    {
     "data": {
      "image/png": "[encoded data removed]",
      "text/plain": [
       "<Figure size 432x288 with 1 Axes>"
      ]
     },
     "metadata": {
      "needs_background": "light"
     },
     "output_type": "display_data"
    }
   ],
   "source": [
    "plt.scatter(base_price_df[base_price_df.year==2015].month, base_price_df[base_price_df.year==2015].Price)"
   ]
  },
  {
   "cell_type": "code",
   "execution_count": 115,
   "metadata": {},
   "outputs": [
    {
     "data": {
      "text/html": [
       "<div>\n",
       "<style scoped>\n",
       "    .dataframe tbody tr th:only-of-type {\n",
       "        vertical-align: middle;\n",
       "    }\n",
       "\n",
       "    .dataframe tbody tr th {\n",
       "        vertical-align: top;\n",
       "    }\n",
       "\n",
       "    .dataframe thead th {\n",
       "        text-align: right;\n",
       "    }\n",
       "</style>\n",
       "<table border=\"1\" class=\"dataframe\">\n",
       "  <thead>\n",
       "    <tr style=\"text-align: right;\">\n",
       "      <th></th>\n",
       "      <th>Dep_Date</th>\n",
       "      <th>Days_to_Depart</th>\n",
       "      <th>Price</th>\n",
       "      <th>Comptt_Price_Median</th>\n",
       "      <th>Bookings</th>\n",
       "      <th>month</th>\n",
       "      <th>weekday</th>\n",
       "      <th>Sales</th>\n",
       "      <th>Difference_To_Market</th>\n",
       "      <th>year</th>\n",
       "    </tr>\n",
       "  </thead>\n",
       "  <tbody>\n",
       "    <tr>\n",
       "      <th>1461</th>\n",
       "      <td>2015-01-01</td>\n",
       "      <td>60</td>\n",
       "      <td>8870.0</td>\n",
       "      <td>8989.95</td>\n",
       "      <td>8.0</td>\n",
       "      <td>1</td>\n",
       "      <td>3</td>\n",
       "      <td>70960.0</td>\n",
       "      <td>-119.95</td>\n",
       "      <td>2015</td>\n",
       "    </tr>\n",
       "    <tr>\n",
       "      <th>1486</th>\n",
       "      <td>2015-01-26</td>\n",
       "      <td>60</td>\n",
       "      <td>8815.0</td>\n",
       "      <td>8754.50</td>\n",
       "      <td>8.0</td>\n",
       "      <td>1</td>\n",
       "      <td>0</td>\n",
       "      <td>70520.0</td>\n",
       "      <td>60.50</td>\n",
       "      <td>2015</td>\n",
       "    </tr>\n",
       "    <tr>\n",
       "      <th>1523</th>\n",
       "      <td>2015-03-04</td>\n",
       "      <td>60</td>\n",
       "      <td>12945.0</td>\n",
       "      <td>12748.08</td>\n",
       "      <td>7.0</td>\n",
       "      <td>3</td>\n",
       "      <td>2</td>\n",
       "      <td>90615.0</td>\n",
       "      <td>196.92</td>\n",
       "      <td>2015</td>\n",
       "    </tr>\n",
       "    <tr>\n",
       "      <th>1524</th>\n",
       "      <td>2015-03-05</td>\n",
       "      <td>60</td>\n",
       "      <td>8558.0</td>\n",
       "      <td>8346.29</td>\n",
       "      <td>5.0</td>\n",
       "      <td>3</td>\n",
       "      <td>3</td>\n",
       "      <td>42790.0</td>\n",
       "      <td>211.71</td>\n",
       "      <td>2015</td>\n",
       "    </tr>\n",
       "    <tr>\n",
       "      <th>1525</th>\n",
       "      <td>2015-03-06</td>\n",
       "      <td>60</td>\n",
       "      <td>12712.0</td>\n",
       "      <td>13119.54</td>\n",
       "      <td>9.0</td>\n",
       "      <td>3</td>\n",
       "      <td>4</td>\n",
       "      <td>114408.0</td>\n",
       "      <td>-407.54</td>\n",
       "      <td>2015</td>\n",
       "    </tr>\n",
       "    <tr>\n",
       "      <th>1687</th>\n",
       "      <td>2015-08-15</td>\n",
       "      <td>60</td>\n",
       "      <td>9486.0</td>\n",
       "      <td>9283.37</td>\n",
       "      <td>9.0</td>\n",
       "      <td>8</td>\n",
       "      <td>5</td>\n",
       "      <td>85374.0</td>\n",
       "      <td>202.63</td>\n",
       "      <td>2015</td>\n",
       "    </tr>\n",
       "    <tr>\n",
       "      <th>1754</th>\n",
       "      <td>2015-10-21</td>\n",
       "      <td>60</td>\n",
       "      <td>13950.0</td>\n",
       "      <td>14534.09</td>\n",
       "      <td>10.0</td>\n",
       "      <td>10</td>\n",
       "      <td>2</td>\n",
       "      <td>139500.0</td>\n",
       "      <td>-584.09</td>\n",
       "      <td>2015</td>\n",
       "    </tr>\n",
       "    <tr>\n",
       "      <th>1755</th>\n",
       "      <td>2015-10-22</td>\n",
       "      <td>60</td>\n",
       "      <td>9934.0</td>\n",
       "      <td>9213.13</td>\n",
       "      <td>10.0</td>\n",
       "      <td>10</td>\n",
       "      <td>3</td>\n",
       "      <td>99340.0</td>\n",
       "      <td>720.87</td>\n",
       "      <td>2015</td>\n",
       "    </tr>\n",
       "    <tr>\n",
       "      <th>1756</th>\n",
       "      <td>2015-10-23</td>\n",
       "      <td>60</td>\n",
       "      <td>12000.0</td>\n",
       "      <td>12201.35</td>\n",
       "      <td>6.0</td>\n",
       "      <td>10</td>\n",
       "      <td>4</td>\n",
       "      <td>72000.0</td>\n",
       "      <td>-201.35</td>\n",
       "      <td>2015</td>\n",
       "    </tr>\n",
       "    <tr>\n",
       "      <th>1773</th>\n",
       "      <td>2015-11-09</td>\n",
       "      <td>60</td>\n",
       "      <td>16053.0</td>\n",
       "      <td>16871.06</td>\n",
       "      <td>5.0</td>\n",
       "      <td>11</td>\n",
       "      <td>0</td>\n",
       "      <td>80265.0</td>\n",
       "      <td>-818.06</td>\n",
       "      <td>2015</td>\n",
       "    </tr>\n",
       "    <tr>\n",
       "      <th>1774</th>\n",
       "      <td>2015-11-10</td>\n",
       "      <td>60</td>\n",
       "      <td>11722.0</td>\n",
       "      <td>11147.58</td>\n",
       "      <td>9.0</td>\n",
       "      <td>11</td>\n",
       "      <td>1</td>\n",
       "      <td>105498.0</td>\n",
       "      <td>574.42</td>\n",
       "      <td>2015</td>\n",
       "    </tr>\n",
       "    <tr>\n",
       "      <th>1775</th>\n",
       "      <td>2015-11-11</td>\n",
       "      <td>60</td>\n",
       "      <td>9635.0</td>\n",
       "      <td>9912.80</td>\n",
       "      <td>8.0</td>\n",
       "      <td>11</td>\n",
       "      <td>2</td>\n",
       "      <td>77080.0</td>\n",
       "      <td>-277.80</td>\n",
       "      <td>2015</td>\n",
       "    </tr>\n",
       "    <tr>\n",
       "      <th>1776</th>\n",
       "      <td>2015-11-12</td>\n",
       "      <td>60</td>\n",
       "      <td>13758.0</td>\n",
       "      <td>15248.09</td>\n",
       "      <td>9.0</td>\n",
       "      <td>11</td>\n",
       "      <td>3</td>\n",
       "      <td>123822.0</td>\n",
       "      <td>-1490.09</td>\n",
       "      <td>2015</td>\n",
       "    </tr>\n",
       "    <tr>\n",
       "      <th>1777</th>\n",
       "      <td>2015-11-13</td>\n",
       "      <td>60</td>\n",
       "      <td>17153.0</td>\n",
       "      <td>17374.45</td>\n",
       "      <td>7.0</td>\n",
       "      <td>11</td>\n",
       "      <td>4</td>\n",
       "      <td>120071.0</td>\n",
       "      <td>-221.45</td>\n",
       "      <td>2015</td>\n",
       "    </tr>\n",
       "    <tr>\n",
       "      <th>1819</th>\n",
       "      <td>2015-12-25</td>\n",
       "      <td>60</td>\n",
       "      <td>9151.0</td>\n",
       "      <td>9782.20</td>\n",
       "      <td>11.0</td>\n",
       "      <td>12</td>\n",
       "      <td>4</td>\n",
       "      <td>100661.0</td>\n",
       "      <td>-631.20</td>\n",
       "      <td>2015</td>\n",
       "    </tr>\n",
       "  </tbody>\n",
       "</table>\n",
       "</div>"
      ],
      "text/plain": [
       "       Dep_Date  Days_to_Depart    Price  Comptt_Price_Median  Bookings  \\\n",
       "1461 2015-01-01              60   8870.0              8989.95       8.0   \n",
       "1486 2015-01-26              60   8815.0              8754.50       8.0   \n",
       "1523 2015-03-04              60  12945.0             12748.08       7.0   \n",
       "1524 2015-03-05              60   8558.0              8346.29       5.0   \n",
       "1525 2015-03-06              60  12712.0             13119.54       9.0   \n",
       "1687 2015-08-15              60   9486.0              9283.37       9.0   \n",
       "1754 2015-10-21              60  13950.0             14534.09      10.0   \n",
       "1755 2015-10-22              60   9934.0              9213.13      10.0   \n",
       "1756 2015-10-23              60  12000.0             12201.35       6.0   \n",
       "1773 2015-11-09              60  16053.0             16871.06       5.0   \n",
       "1774 2015-11-10              60  11722.0             11147.58       9.0   \n",
       "1775 2015-11-11              60   9635.0              9912.80       8.0   \n",
       "1776 2015-11-12              60  13758.0             15248.09       9.0   \n",
       "1777 2015-11-13              60  17153.0             17374.45       7.0   \n",
       "1819 2015-12-25              60   9151.0              9782.20      11.0   \n",
       "\n",
       "      month  weekday     Sales  Difference_To_Market  year  \n",
       "1461      1        3   70960.0               -119.95  2015  \n",
       "1486      1        0   70520.0                 60.50  2015  \n",
       "1523      3        2   90615.0                196.92  2015  \n",
       "1524      3        3   42790.0                211.71  2015  \n",
       "1525      3        4  114408.0               -407.54  2015  \n",
       "1687      8        5   85374.0                202.63  2015  \n",
       "1754     10        2  139500.0               -584.09  2015  \n",
       "1755     10        3   99340.0                720.87  2015  \n",
       "1756     10        4   72000.0               -201.35  2015  \n",
       "1773     11        0   80265.0               -818.06  2015  \n",
       "1774     11        1  105498.0                574.42  2015  \n",
       "1775     11        2   77080.0               -277.80  2015  \n",
       "1776     11        3  123822.0              -1490.09  2015  \n",
       "1777     11        4  120071.0               -221.45  2015  \n",
       "1819     12        4  100661.0               -631.20  2015  "
      ]
     },
     "execution_count": 115,
     "metadata": {},
     "output_type": "execute_result"
    }
   ],
   "source": [
    "base_price_df[(base_price_df.year==2015) & (base_price_df.Price>8000)]"
   ]
  },
  {
   "cell_type": "code",
   "execution_count": 143,
   "metadata": {},
   "outputs": [
    {
     "data": {
      "text/html": [
       "<div>\n",
       "<style scoped>\n",
       "    .dataframe tbody tr th:only-of-type {\n",
       "        vertical-align: middle;\n",
       "    }\n",
       "\n",
       "    .dataframe tbody tr th {\n",
       "        vertical-align: top;\n",
       "    }\n",
       "\n",
       "    .dataframe thead th {\n",
       "        text-align: right;\n",
       "    }\n",
       "</style>\n",
       "<table border=\"1\" class=\"dataframe\">\n",
       "  <thead>\n",
       "    <tr style=\"text-align: right;\">\n",
       "      <th></th>\n",
       "      <th>Dep_Date</th>\n",
       "      <th>Days_to_Depart</th>\n",
       "      <th>Price</th>\n",
       "      <th>Comptt_Price_Median</th>\n",
       "      <th>Bookings</th>\n",
       "      <th>month</th>\n",
       "      <th>weekday</th>\n",
       "      <th>Sales</th>\n",
       "      <th>Difference_To_Market</th>\n",
       "      <th>year</th>\n",
       "      <th>day_of_month</th>\n",
       "    </tr>\n",
       "  </thead>\n",
       "  <tbody>\n",
       "    <tr>\n",
       "      <th>0</th>\n",
       "      <td>2011-01-01</td>\n",
       "      <td>60</td>\n",
       "      <td>7541.0</td>\n",
       "      <td>7529.91</td>\n",
       "      <td>3.0</td>\n",
       "      <td>1</td>\n",
       "      <td>5</td>\n",
       "      <td>22623.0</td>\n",
       "      <td>11.09</td>\n",
       "      <td>2011</td>\n",
       "      <td>1</td>\n",
       "    </tr>\n",
       "    <tr>\n",
       "      <th>1</th>\n",
       "      <td>2011-01-02</td>\n",
       "      <td>60</td>\n",
       "      <td>5032.0</td>\n",
       "      <td>4625.46</td>\n",
       "      <td>4.0</td>\n",
       "      <td>1</td>\n",
       "      <td>6</td>\n",
       "      <td>20128.0</td>\n",
       "      <td>406.54</td>\n",
       "      <td>2011</td>\n",
       "      <td>2</td>\n",
       "    </tr>\n",
       "  </tbody>\n",
       "</table>\n",
       "</div>"
      ],
      "text/plain": [
       "    Dep_Date  Days_to_Depart   Price  Comptt_Price_Median  Bookings  month  \\\n",
       "0 2011-01-01              60  7541.0              7529.91       3.0      1   \n",
       "1 2011-01-02              60  5032.0              4625.46       4.0      1   \n",
       "\n",
       "   weekday    Sales  Difference_To_Market  year  day_of_month  \n",
       "0        5  22623.0                 11.09  2011             1  \n",
       "1        6  20128.0                406.54  2011             2  "
      ]
     },
     "execution_count": 143,
     "metadata": {},
     "output_type": "execute_result"
    }
   ],
   "source": [
    "df['day_of_month'] = df.Dep_Date.apply(lambda x: x.day)\n",
    "df.head(2)"
   ]
  },
  {
   "cell_type": "code",
   "execution_count": 144,
   "metadata": {},
   "outputs": [
    {
     "data": {
      "text/html": [
       "<div>\n",
       "<style scoped>\n",
       "    .dataframe tbody tr th:only-of-type {\n",
       "        vertical-align: middle;\n",
       "    }\n",
       "\n",
       "    .dataframe tbody tr th {\n",
       "        vertical-align: top;\n",
       "    }\n",
       "\n",
       "    .dataframe thead th {\n",
       "        text-align: right;\n",
       "    }\n",
       "</style>\n",
       "<table border=\"1\" class=\"dataframe\">\n",
       "  <thead>\n",
       "    <tr style=\"text-align: right;\">\n",
       "      <th></th>\n",
       "      <th>Price</th>\n",
       "      <th>month</th>\n",
       "      <th>weekday</th>\n",
       "      <th>Sales</th>\n",
       "      <th>Difference_To_Market</th>\n",
       "      <th>day_of_month</th>\n",
       "    </tr>\n",
       "  </thead>\n",
       "  <tbody>\n",
       "    <tr>\n",
       "      <th>1461</th>\n",
       "      <td>8870.0</td>\n",
       "      <td>1</td>\n",
       "      <td>3</td>\n",
       "      <td>70960.0</td>\n",
       "      <td>-119.95</td>\n",
       "      <td>1</td>\n",
       "    </tr>\n",
       "    <tr>\n",
       "      <th>1462</th>\n",
       "      <td>6084.0</td>\n",
       "      <td>1</td>\n",
       "      <td>4</td>\n",
       "      <td>42588.0</td>\n",
       "      <td>-3.06</td>\n",
       "      <td>2</td>\n",
       "    </tr>\n",
       "    <tr>\n",
       "      <th>1463</th>\n",
       "      <td>6129.0</td>\n",
       "      <td>1</td>\n",
       "      <td>5</td>\n",
       "      <td>49032.0</td>\n",
       "      <td>-212.73</td>\n",
       "      <td>3</td>\n",
       "    </tr>\n",
       "    <tr>\n",
       "      <th>1464</th>\n",
       "      <td>6078.0</td>\n",
       "      <td>1</td>\n",
       "      <td>6</td>\n",
       "      <td>42546.0</td>\n",
       "      <td>502.56</td>\n",
       "      <td>4</td>\n",
       "    </tr>\n",
       "    <tr>\n",
       "      <th>1465</th>\n",
       "      <td>6067.0</td>\n",
       "      <td>1</td>\n",
       "      <td>0</td>\n",
       "      <td>36402.0</td>\n",
       "      <td>218.70</td>\n",
       "      <td>5</td>\n",
       "    </tr>\n",
       "  </tbody>\n",
       "</table>\n",
       "</div>"
      ],
      "text/plain": [
       "       Price  month  weekday    Sales  Difference_To_Market  day_of_month\n",
       "1461  8870.0      1        3  70960.0               -119.95             1\n",
       "1462  6084.0      1        4  42588.0                 -3.06             2\n",
       "1463  6129.0      1        5  49032.0               -212.73             3\n",
       "1464  6078.0      1        6  42546.0                502.56             4\n",
       "1465  6067.0      1        0  36402.0                218.70             5"
      ]
     },
     "execution_count": 144,
     "metadata": {},
     "output_type": "execute_result"
    }
   ],
   "source": [
    "analysis_df = df[(df.year==2015) & (df.Days_to_Depart==60)][[col for col in df.columns if col not in ['Dep_Date','Days_to_Depart','year','Bookings','Comptt_Price_Median']]]\n",
    "analysis_df.head()"
   ]
  },
  {
   "cell_type": "code",
   "execution_count": 127,
   "metadata": {},
   "outputs": [
    {
     "data": {
      "text/plain": [
       "<matplotlib.collections.PathCollection at 0x14da2af5e80>"
      ]
     },
     "execution_count": 127,
     "metadata": {},
     "output_type": "execute_result"
    },
    {
     "data": {
      "image/png": "[encoded data removed]",
      "text/plain": [
       "<Figure size 432x288 with 1 Axes>"
      ]
     },
     "metadata": {
      "needs_background": "light"
     },
     "output_type": "display_data"
    }
   ],
   "source": [
    "plt.scatter(analysis_df.Price-analysis_df.Comptt_Price_Median, analysis_df.Sales)"
   ]
  },
  {
   "cell_type": "code",
   "execution_count": 128,
   "metadata": {},
   "outputs": [
    {
     "data": {
      "text/plain": [
       "<matplotlib.collections.PathCollection at 0x14da2b52da0>"
      ]
     },
     "execution_count": 128,
     "metadata": {},
     "output_type": "execute_result"
    },
    {
     "data": {
      "image/png": "[encoded data removed]",
      "text/plain": [
       "<Figure size 432x288 with 1 Axes>"
      ]
     },
     "metadata": {
      "needs_background": "light"
     },
     "output_type": "display_data"
    }
   ],
   "source": [
    "plt.scatter(analysis_df[analysis_df.weekday==0].Price-analysis_df[analysis_df.weekday==0].Comptt_Price_Median, analysis_df[analysis_df.weekday==0].Sales)"
   ]
  },
  {
   "cell_type": "code",
   "execution_count": 129,
   "metadata": {},
   "outputs": [
    {
     "data": {
      "text/plain": [
       "(365, 5)"
      ]
     },
     "execution_count": 129,
     "metadata": {},
     "output_type": "execute_result"
    }
   ],
   "source": [
    "analysis_df.shape"
   ]
  },
  {
   "cell_type": "code",
   "execution_count": 186,
   "metadata": {},
   "outputs": [
    {
     "data": {
      "image/png": "[encoded data removed]",
      "text/plain": [
       "<Figure size 432x432 with 3 Axes>"
      ]
     },
     "metadata": {
      "needs_background": "light"
     },
     "output_type": "display_data"
    },
    {
     "data": {
      "image/png": "[encoded data removed]",
      "text/plain": [
       "<Figure size 432x432 with 3 Axes>"
      ]
     },
     "metadata": {
      "needs_background": "light"
     },
     "output_type": "display_data"
    },
    {
     "data": {
      "image/png": "[encoded data removed]",
      "text/plain": [
       "<Figure size 432x432 with 3 Axes>"
      ]
     },
     "metadata": {
      "needs_background": "light"
     },
     "output_type": "display_data"
    },
    {
     "data": {
      "image/png": "[encoded data removed]",
      "text/plain": [
       "<Figure size 432x432 with 3 Axes>"
      ]
     },
     "metadata": {
      "needs_background": "light"
     },
     "output_type": "display_data"
    },
    {
     "data": {
      "image/png": "[encoded data removed]",
      "text/plain": [
       "<Figure size 432x432 with 3 Axes>"
      ]
     },
     "metadata": {
      "needs_background": "light"
     },
     "output_type": "display_data"
    },
    {
     "data": {
      "image/png": "[encoded data removed]",
      "text/plain": [
       "<Figure size 432x432 with 3 Axes>"
      ]
     },
     "metadata": {
      "needs_background": "light"
     },
     "output_type": "display_data"
    },
    {
     "data": {
      "image/png": "[encoded data removed]",
      "text/plain": [
       "<Figure size 432x432 with 3 Axes>"
      ]
     },
     "metadata": {
      "needs_background": "light"
     },
     "output_type": "display_data"
    }
   ],
   "source": [
    "for f in analysis_df.columns:\n",
    "    sns.jointplot(analysis_df[f], analysis_df['Sales'])\n",
    "    #plt.scatter(analysis_df[f], analysis_df['Sales'])\n",
    "    plt.xlabel(f)\n",
    "    plt.ylabel('Sales')\n",
    "    plt.show()"
   ]
  },
  {
   "cell_type": "code",
   "execution_count": 188,
   "metadata": {},
   "outputs": [
    {
     "data": {
      "text/plain": [
       "<matplotlib.axes._subplots.AxesSubplot at 0x14da74d8940>"
      ]
     },
     "execution_count": 188,
     "metadata": {},
     "output_type": "execute_result"
    },
    {
     "data": {
      "image/png": "[encoded data removed]",
      "text/plain": [
       "<Figure size 432x288 with 1 Axes>"
      ]
     },
     "metadata": {
      "needs_background": "light"
     },
     "output_type": "display_data"
    }
   ],
   "source": [
    "sns.distplot(np.log(analysis_df['Price']))"
   ]
  },
  {
   "cell_type": "code",
   "execution_count": 202,
   "metadata": {},
   "outputs": [],
   "source": [
    "df['Price_log'] = np.log(df.Price)\n",
    "df['Difference_To_Market_log'] = np.log(df['Price']) - np.log(df['Comptt_Price_Median'])"
   ]
  },
  {
   "cell_type": "code",
   "execution_count": 165,
   "metadata": {},
   "outputs": [
    {
     "data": {
      "text/plain": [
       "(1826, 7)"
      ]
     },
     "execution_count": 165,
     "metadata": {},
     "output_type": "execute_result"
    }
   ],
   "source": [
    "analysis_df = df[df.Days_to_Depart==60][[col for col in df.columns if col not in ['Dep_Date','Days_to_Depart','Bookings','Comptt_Price_Median']]]\n",
    "analysis_df.shape"
   ]
  },
  {
   "cell_type": "code",
   "execution_count": 207,
   "metadata": {},
   "outputs": [
    {
     "data": {
      "text/plain": [
       "((1826, 9),\n",
       "     Price  month  weekday    Sales  Difference_To_Market  year  day_of_month  \\\n",
       " 0  7541.0      1        5  22623.0                 11.09  2011             1   \n",
       " 1  5032.0      1        6  20128.0                406.54  2011             2   \n",
       " \n",
       "    Price_log  Difference_To_Market_log  \n",
       " 0   8.928110                  0.001472  \n",
       " 1   8.523573                  0.084242  )"
      ]
     },
     "execution_count": 207,
     "metadata": {},
     "output_type": "execute_result"
    }
   ],
   "source": [
    "analysis_df_tr = df[df.Days_to_Depart==60][[col for col in df.columns if col not in ['Dep_Date','Days_to_Depart','Bookings','Comptt_Price_Median']]]\n",
    "analysis_df_tr.shape, analysis_df_tr.head(2)"
   ]
  },
  {
   "cell_type": "code",
   "execution_count": 208,
   "metadata": {},
   "outputs": [
    {
     "data": {
      "text/html": [
       "<div>\n",
       "<style scoped>\n",
       "    .dataframe tbody tr th:only-of-type {\n",
       "        vertical-align: middle;\n",
       "    }\n",
       "\n",
       "    .dataframe tbody tr th {\n",
       "        vertical-align: top;\n",
       "    }\n",
       "\n",
       "    .dataframe thead th {\n",
       "        text-align: right;\n",
       "    }\n",
       "</style>\n",
       "<table border=\"1\" class=\"dataframe\">\n",
       "  <thead>\n",
       "    <tr style=\"text-align: right;\">\n",
       "      <th></th>\n",
       "      <th>month</th>\n",
       "      <th>weekday</th>\n",
       "      <th>year</th>\n",
       "      <th>day_of_month</th>\n",
       "      <th>Price_log</th>\n",
       "      <th>Difference_To_Market_log</th>\n",
       "    </tr>\n",
       "  </thead>\n",
       "  <tbody>\n",
       "    <tr>\n",
       "      <th>0</th>\n",
       "      <td>1</td>\n",
       "      <td>5</td>\n",
       "      <td>2011</td>\n",
       "      <td>1</td>\n",
       "      <td>8.928110</td>\n",
       "      <td>0.001472</td>\n",
       "    </tr>\n",
       "    <tr>\n",
       "      <th>1</th>\n",
       "      <td>1</td>\n",
       "      <td>6</td>\n",
       "      <td>2011</td>\n",
       "      <td>2</td>\n",
       "      <td>8.523573</td>\n",
       "      <td>0.084242</td>\n",
       "    </tr>\n",
       "  </tbody>\n",
       "</table>\n",
       "</div>"
      ],
      "text/plain": [
       "   month  weekday  year  day_of_month  Price_log  Difference_To_Market_log\n",
       "0      1        5  2011             1   8.928110                  0.001472\n",
       "1      1        6  2011             2   8.523573                  0.084242"
      ]
     },
     "execution_count": 208,
     "metadata": {},
     "output_type": "execute_result"
    }
   ],
   "source": [
    "X_tr = analysis_df_tr.loc[:, ~analysis_df_tr.columns.isin(['Sales', 'Difference_To_Market', 'Price'])]\n",
    "y = analysis_df_tr['Sales']\n",
    "X_tr.head(2)"
   ]
  },
  {
   "cell_type": "code",
   "execution_count": 262,
   "metadata": {},
   "outputs": [
    {
     "data": {
      "text/html": [
       "<div>\n",
       "<style scoped>\n",
       "    .dataframe tbody tr th:only-of-type {\n",
       "        vertical-align: middle;\n",
       "    }\n",
       "\n",
       "    .dataframe tbody tr th {\n",
       "        vertical-align: top;\n",
       "    }\n",
       "\n",
       "    .dataframe thead th {\n",
       "        text-align: right;\n",
       "    }\n",
       "</style>\n",
       "<table border=\"1\" class=\"dataframe\">\n",
       "  <thead>\n",
       "    <tr style=\"text-align: right;\">\n",
       "      <th></th>\n",
       "      <th>Price</th>\n",
       "      <th>month</th>\n",
       "      <th>weekday</th>\n",
       "      <th>Sales</th>\n",
       "      <th>Difference_To_Market</th>\n",
       "      <th>year</th>\n",
       "      <th>day_of_month</th>\n",
       "    </tr>\n",
       "  </thead>\n",
       "  <tbody>\n",
       "    <tr>\n",
       "      <th>0</th>\n",
       "      <td>7541.0</td>\n",
       "      <td>1</td>\n",
       "      <td>5</td>\n",
       "      <td>22623.0</td>\n",
       "      <td>11.09</td>\n",
       "      <td>2011</td>\n",
       "      <td>1</td>\n",
       "    </tr>\n",
       "    <tr>\n",
       "      <th>1</th>\n",
       "      <td>5032.0</td>\n",
       "      <td>1</td>\n",
       "      <td>6</td>\n",
       "      <td>20128.0</td>\n",
       "      <td>406.54</td>\n",
       "      <td>2011</td>\n",
       "      <td>2</td>\n",
       "    </tr>\n",
       "    <tr>\n",
       "      <th>2</th>\n",
       "      <td>5032.0</td>\n",
       "      <td>1</td>\n",
       "      <td>0</td>\n",
       "      <td>15096.0</td>\n",
       "      <td>-26.02</td>\n",
       "      <td>2011</td>\n",
       "      <td>3</td>\n",
       "    </tr>\n",
       "    <tr>\n",
       "      <th>3</th>\n",
       "      <td>5039.0</td>\n",
       "      <td>1</td>\n",
       "      <td>1</td>\n",
       "      <td>50390.0</td>\n",
       "      <td>50.76</td>\n",
       "      <td>2011</td>\n",
       "      <td>4</td>\n",
       "    </tr>\n",
       "    <tr>\n",
       "      <th>4</th>\n",
       "      <td>5055.0</td>\n",
       "      <td>1</td>\n",
       "      <td>2</td>\n",
       "      <td>50550.0</td>\n",
       "      <td>-214.14</td>\n",
       "      <td>2011</td>\n",
       "      <td>5</td>\n",
       "    </tr>\n",
       "  </tbody>\n",
       "</table>\n",
       "</div>"
      ],
      "text/plain": [
       "    Price  month  weekday    Sales  Difference_To_Market  year  day_of_month\n",
       "0  7541.0      1        5  22623.0                 11.09  2011             1\n",
       "1  5032.0      1        6  20128.0                406.54  2011             2\n",
       "2  5032.0      1        0  15096.0                -26.02  2011             3\n",
       "3  5039.0      1        1  50390.0                 50.76  2011             4\n",
       "4  5055.0      1        2  50550.0               -214.14  2011             5"
      ]
     },
     "execution_count": 262,
     "metadata": {},
     "output_type": "execute_result"
    }
   ],
   "source": [
    "analysis_df.head()"
   ]
  },
  {
   "cell_type": "code",
   "execution_count": 268,
   "metadata": {},
   "outputs": [
    {
     "data": {
      "text/plain": [
       "(-0.5528421803973129, -3.11300212819321e-17)"
      ]
     },
     "execution_count": 268,
     "metadata": {},
     "output_type": "execute_result"
    }
   ],
   "source": [
    "np.mean(analysis_df_scaled[0]), np.mean(analysis_df_scaled[:,3])"
   ]
  },
  {
   "cell_type": "code",
   "execution_count": 272,
   "metadata": {},
   "outputs": [
    {
     "data": {
      "text/plain": [
       "((1826, 7), (1826, 3))"
      ]
     },
     "execution_count": 272,
     "metadata": {},
     "output_type": "execute_result"
    }
   ],
   "source": [
    "#X_scaled = \n",
    "analysis_df_scaled.shape, analysis_df_scaled[:,[0,1,2]].shape"
   ]
  },
  {
   "cell_type": "code",
   "execution_count": 168,
   "metadata": {},
   "outputs": [],
   "source": [
    "X = analysis_df.loc[:, analysis_df.columns != 'Sales']\n",
    "y = analysis_df['Sales']"
   ]
  },
  {
   "cell_type": "code",
   "execution_count": 278,
   "metadata": {},
   "outputs": [
    {
     "name": "stderr",
     "output_type": "stream",
     "text": [
      "C:\\Users\\i309535\\AppData\\Local\\Programs\\Python\\Python36\\lib\\site-packages\\sklearn\\preprocessing\\data.py:625: DataConversionWarning: Data with input dtype int64, float64 were all converted to float64 by StandardScaler.\n",
      "  return self.partial_fit(X, y)\n",
      "C:\\Users\\i309535\\AppData\\Local\\Programs\\Python\\Python36\\lib\\site-packages\\sklearn\\base.py:462: DataConversionWarning: Data with input dtype int64, float64 were all converted to float64 by StandardScaler.\n",
      "  return self.fit(X, **fit_params).transform(X)\n"
     ]
    },
    {
     "data": {
      "text/plain": [
       "((1826, 6), (1826,))"
      ]
     },
     "execution_count": 278,
     "metadata": {},
     "output_type": "execute_result"
    }
   ],
   "source": [
    "scaler = StandardScaler()\n",
    "analysis_df_scaled = scaler.fit_transform(analysis_df)\n",
    "f_indices = [0,1,2,4,5,6]\n",
    "X_scaled = analysis_df_scaled[:,f_indices]\n",
    "y_scaled = analysis_df_scaled[:,3]\n",
    "X_scaled.shape, y_scaled.shape"
   ]
  },
  {
   "cell_type": "code",
   "execution_count": 279,
   "metadata": {},
   "outputs": [
    {
     "data": {
      "text/plain": [
       "((1223, 6), (603, 6))"
      ]
     },
     "execution_count": 279,
     "metadata": {},
     "output_type": "execute_result"
    }
   ],
   "source": [
    "X_scaled_train, X_scaled_test, y_scaled_train, y_scaled_test = train_test_split(\n",
    "    X_scaled, y_scaled, test_size=0.33, random_state=42)\n",
    "\n",
    "X_scaled_train.shape, X_scaled_test.shape"
   ]
  },
  {
   "cell_type": "code",
   "execution_count": 209,
   "metadata": {},
   "outputs": [
    {
     "name": "stderr",
     "output_type": "stream",
     "text": [
      "C:\\Users\\i309535\\AppData\\Local\\Programs\\Python\\Python36\\lib\\site-packages\\sklearn\\preprocessing\\data.py:625: DataConversionWarning: Data with input dtype int64, float64 were all converted to float64 by StandardScaler.\n",
      "  return self.partial_fit(X, y)\n",
      "C:\\Users\\i309535\\AppData\\Local\\Programs\\Python\\Python36\\lib\\site-packages\\sklearn\\base.py:462: DataConversionWarning: Data with input dtype int64, float64 were all converted to float64 by StandardScaler.\n",
      "  return self.fit(X, **fit_params).transform(X)\n"
     ]
    }
   ],
   "source": [
    "from sklearn.preprocessing import StandardScaler\n",
    "scaler = StandardScaler()\n",
    "X_norm = scaler.fit_transform(X_tr)"
   ]
  },
  {
   "cell_type": "code",
   "execution_count": 210,
   "metadata": {},
   "outputs": [
    {
     "data": {
      "text/plain": [
       "((1223, 6), (603, 6))"
      ]
     },
     "execution_count": 210,
     "metadata": {},
     "output_type": "execute_result"
    }
   ],
   "source": [
    "from sklearn.model_selection import train_test_split\n",
    "X_train, X_test, y_train, y_test = train_test_split(\n",
    "    X_norm, y, test_size=0.33, random_state=42)\n",
    "\n",
    "X_train.shape, X_test.shape"
   ]
  },
  {
   "cell_type": "code",
   "execution_count": null,
   "metadata": {},
   "outputs": [],
   "source": [
    "def "
   ]
  },
  {
   "cell_type": "code",
   "execution_count": 170,
   "metadata": {},
   "outputs": [
    {
     "name": "stdout",
     "output_type": "stream",
     "text": [
      "R2 scores: 0.36014723873973953 0.23766001448172136\n",
      "RMSE scores: 11897.69235336631 12062.081208617628\n"
     ]
    }
   ],
   "source": [
    "from sklearn.linear_model import LinearRegression\n",
    "lr = LinearRegression()  \n",
    "lr.fit(X_train, y_train) #training the algorithm\n",
    "print('R2 scores:', lr.score(X_train, y_train), lr.score(X_test, y_test))\n",
    "print('RMSE scores:', rmse(lr.predict(X_train), y_train), rmse(lr.predict(X_test), y_test))"
   ]
  },
  {
   "cell_type": "code",
   "execution_count": 211,
   "metadata": {},
   "outputs": [
    {
     "name": "stdout",
     "output_type": "stream",
     "text": [
      "R2 scores: 0.35976687606257785 0.2463922145210785\n",
      "RMSE scores: 11901.22814007286 11992.799871899684\n"
     ]
    }
   ],
   "source": [
    "from sklearn.linear_model import LinearRegression\n",
    "lr = LinearRegression()  \n",
    "lr.fit(X_train, y_train) #training the algorithm\n",
    "print('R2 scores:', lr.score(X_train, y_train), lr.score(X_test, y_test))\n",
    "print('RMSE scores:', rmse(lr.predict(X_train), y_train), rmse(lr.predict(X_test), y_test))"
   ]
  },
  {
   "cell_type": "code",
   "execution_count": 171,
   "metadata": {},
   "outputs": [
    {
     "data": {
      "text/html": [
       "<div>\n",
       "<style scoped>\n",
       "    .dataframe tbody tr th:only-of-type {\n",
       "        vertical-align: middle;\n",
       "    }\n",
       "\n",
       "    .dataframe tbody tr th {\n",
       "        vertical-align: top;\n",
       "    }\n",
       "\n",
       "    .dataframe thead th {\n",
       "        text-align: right;\n",
       "    }\n",
       "</style>\n",
       "<table border=\"1\" class=\"dataframe\">\n",
       "  <thead>\n",
       "    <tr style=\"text-align: right;\">\n",
       "      <th></th>\n",
       "      <th>Coefficient</th>\n",
       "    </tr>\n",
       "  </thead>\n",
       "  <tbody>\n",
       "    <tr>\n",
       "      <th>Price</th>\n",
       "      <td>7.549362</td>\n",
       "    </tr>\n",
       "    <tr>\n",
       "      <th>month</th>\n",
       "      <td>-120.433686</td>\n",
       "    </tr>\n",
       "    <tr>\n",
       "      <th>weekday</th>\n",
       "      <td>-156.430560</td>\n",
       "    </tr>\n",
       "    <tr>\n",
       "      <th>Difference_To_Market</th>\n",
       "      <td>-6.713364</td>\n",
       "    </tr>\n",
       "    <tr>\n",
       "      <th>year</th>\n",
       "      <td>254.368506</td>\n",
       "    </tr>\n",
       "    <tr>\n",
       "      <th>day_of_month</th>\n",
       "      <td>87.395197</td>\n",
       "    </tr>\n",
       "  </tbody>\n",
       "</table>\n",
       "</div>"
      ],
      "text/plain": [
       "                      Coefficient\n",
       "Price                    7.549362\n",
       "month                 -120.433686\n",
       "weekday               -156.430560\n",
       "Difference_To_Market    -6.713364\n",
       "year                   254.368506\n",
       "day_of_month            87.395197"
      ]
     },
     "execution_count": 171,
     "metadata": {},
     "output_type": "execute_result"
    }
   ],
   "source": [
    "coeff_df = pd.DataFrame(lr.coef_, X.columns, columns=['Coefficient'])  \n",
    "coeff_df"
   ]
  },
  {
   "cell_type": "code",
   "execution_count": 159,
   "metadata": {},
   "outputs": [
    {
     "data": {
      "text/html": [
       "<div>\n",
       "<style scoped>\n",
       "    .dataframe tbody tr th:only-of-type {\n",
       "        vertical-align: middle;\n",
       "    }\n",
       "\n",
       "    .dataframe tbody tr th {\n",
       "        vertical-align: top;\n",
       "    }\n",
       "\n",
       "    .dataframe thead th {\n",
       "        text-align: right;\n",
       "    }\n",
       "</style>\n",
       "<table border=\"1\" class=\"dataframe\">\n",
       "  <thead>\n",
       "    <tr style=\"text-align: right;\">\n",
       "      <th></th>\n",
       "      <th>Coefficient</th>\n",
       "    </tr>\n",
       "  </thead>\n",
       "  <tbody>\n",
       "    <tr>\n",
       "      <th>Price</th>\n",
       "      <td>8752.835569</td>\n",
       "    </tr>\n",
       "    <tr>\n",
       "      <th>month</th>\n",
       "      <td>1474.085201</td>\n",
       "    </tr>\n",
       "    <tr>\n",
       "      <th>weekday</th>\n",
       "      <td>-401.217861</td>\n",
       "    </tr>\n",
       "    <tr>\n",
       "      <th>Difference_To_Market</th>\n",
       "      <td>-929.657937</td>\n",
       "    </tr>\n",
       "    <tr>\n",
       "      <th>day_of_month</th>\n",
       "      <td>-19.659777</td>\n",
       "    </tr>\n",
       "  </tbody>\n",
       "</table>\n",
       "</div>"
      ],
      "text/plain": [
       "                      Coefficient\n",
       "Price                 8752.835569\n",
       "month                 1474.085201\n",
       "weekday               -401.217861\n",
       "Difference_To_Market  -929.657937\n",
       "day_of_month           -19.659777"
      ]
     },
     "execution_count": 159,
     "metadata": {},
     "output_type": "execute_result"
    }
   ],
   "source": [
    "coeff_df = pd.DataFrame(lr.coef_, X.columns, columns=['Coefficient'])  \n",
    "coeff_df"
   ]
  },
  {
   "cell_type": "code",
   "execution_count": 155,
   "metadata": {},
   "outputs": [
    {
     "data": {
      "text/plain": [
       "(0.4324214062286399, 0.015057794878486687)"
      ]
     },
     "execution_count": 155,
     "metadata": {},
     "output_type": "execute_result"
    }
   ],
   "source": [
    "lr.score(X_train, y_train), lr.score(X_test, y_test)"
   ]
  },
  {
   "cell_type": "code",
   "execution_count": 160,
   "metadata": {},
   "outputs": [
    {
     "data": {
      "text/plain": [
       "(0.4324214062286399, 0.015057794878486797)"
      ]
     },
     "execution_count": 160,
     "metadata": {},
     "output_type": "execute_result"
    }
   ],
   "source": [
    "lr.score(X_train, y_train), lr.score(X_test, y_test)"
   ]
  },
  {
   "cell_type": "code",
   "execution_count": 161,
   "metadata": {},
   "outputs": [
    {
     "data": {
      "text/plain": [
       "(12641.172827793547, 13644.495726464795)"
      ]
     },
     "execution_count": 161,
     "metadata": {},
     "output_type": "execute_result"
    }
   ],
   "source": [
    "rmse(lr.predict(X_train), y_train), rmse(lr.predict(X_test), y_test)"
   ]
  },
  {
   "cell_type": "code",
   "execution_count": 172,
   "metadata": {},
   "outputs": [
    {
     "name": "stdout",
     "output_type": "stream",
     "text": [
      "R2 scores: 0.9293471691760286 -0.5304314241099637\n",
      "RMSE scores: 3953.5523546690633 17090.502630587034\n"
     ]
    }
   ],
   "source": [
    "from sklearn import tree\n",
    "dtree = tree.DecisionTreeRegressor(min_samples_split=5)\n",
    "dtree = dtree.fit(X_train, y_train)\n",
    "print('R2 scores:', dtree.score(X_train, y_train), dtree.score(X_test, y_test))\n",
    "print('RMSE scores:', rmse(dtree.predict(X_train), y_train), rmse(dtree.predict(X_test), y_test))"
   ]
  },
  {
   "cell_type": "code",
   "execution_count": 212,
   "metadata": {},
   "outputs": [
    {
     "name": "stdout",
     "output_type": "stream",
     "text": [
      "R2 scores: 0.33939226715532744 0.18516545908320825\n",
      "RMSE scores: 12089.115787413364 12470.464015942016 \n",
      "\n",
      "R2 scores: 0.3744503685766918 0.16058982286326307\n",
      "RMSE scores: 11763.961565165815 12657.123376704243 \n",
      "\n",
      "R2 scores: 0.39758364456235984 0.1566148711360692\n",
      "RMSE scores: 11544.392601577887 12687.056319535517 \n",
      "\n",
      "R2 scores: 0.42669081774558004 0.14506038712080904\n",
      "RMSE scores: 11262.042435928714 12773.667827708941 \n",
      "\n",
      "R2 scores: 0.46432662294373983 0.13835545740616984\n",
      "RMSE scores: 10886.110589481405 12823.659240290757 \n",
      "\n",
      "R2 scores: 0.5075923656551958 0.09638267963858659\n",
      "RMSE scores: 10437.22628898104 13132.281140189916 \n",
      "\n",
      "R2 scores: 0.5515174102953122 0.058502736601633964\n",
      "RMSE scores: 9960.829464047936 13404.710199685673 \n",
      "\n",
      "R2 scores: 0.5938913855639831 -0.03522988441543906\n",
      "RMSE scores: 9478.591604297631 14056.147262841261 \n",
      "\n",
      "R2 scores: 0.641512910797098 -0.1336463130431793\n",
      "RMSE scores: 8905.523834341047 14709.119904691524 \n",
      "\n",
      "R2 scores: 0.6953745159878643 -0.20561967171149553\n",
      "RMSE scores: 8209.294329080962 15168.8641221523 \n",
      "\n",
      "R2 scores: 0.7451608829818693 -0.2908569887481036\n",
      "RMSE scores: 7508.544456525207 15695.926757237548 \n",
      "\n",
      "R2 scores: 0.7995857182246597 -0.31875701369933745\n",
      "RMSE scores: 6658.6631305713445 15864.642481459512 \n",
      "\n",
      "R2 scores: 0.8398856363314181 -0.332390903016438\n",
      "RMSE scores: 5951.656494019068 15946.439433400588 \n",
      "\n",
      "R2 scores: 0.8745883055426885 -0.4260761045839314\n",
      "RMSE scores: 5267.344561511798 16497.542267337667 \n",
      "\n",
      "R2 scores: 0.9034784267092586 -0.4455711280204566\n",
      "RMSE scores: 4620.988702824936 16609.923455675857 \n",
      "\n",
      "R2 scores: 0.9286863174882001 -0.4582096959786551\n",
      "RMSE scores: 3971.9991077499085 16682.375372587565 \n",
      "\n",
      "R2 scores: 0.9487031059716751 -0.46250380071599473\n",
      "RMSE scores: 3368.745834941633 16706.92026722123 \n",
      "\n",
      "R2 scores: 0.9688948156763335 -0.48844607573322585\n",
      "RMSE scores: 2623.2464890325764 16854.444796889242 \n",
      "\n"
     ]
    }
   ],
   "source": [
    "for depth in range(2,20):\n",
    "    dtree = tree.DecisionTreeRegressor(max_depth=depth)\n",
    "    dtree = dtree.fit(X_train, y_train)\n",
    "    print('R2 scores:', dtree.score(X_train, y_train), dtree.score(X_test, y_test))\n",
    "    print('RMSE scores:', rmse(dtree.predict(X_train), y_train), rmse(dtree.predict(X_test), y_test), '\\n')"
   ]
  },
  {
   "cell_type": "code",
   "execution_count": 214,
   "metadata": {},
   "outputs": [],
   "source": [
    "dtree = tree.DecisionTreeRegressor(max_depth=2)\n",
    "dtree = dtree.fit(X_train, y_train)\n",
    "\n",
    "residues_tr = np.abs(dtree.predict(X_train) - y_train)\n",
    "residues_te = np.abs(dtree.predict(X_test) - y_test)"
   ]
  },
  {
   "cell_type": "code",
   "execution_count": 216,
   "metadata": {},
   "outputs": [
    {
     "data": {
      "text/plain": [
       "(8072.063141592034, 7275.103120626895)"
      ]
     },
     "execution_count": 216,
     "metadata": {},
     "output_type": "execute_result"
    }
   ],
   "source": [
    "np.std(residues_te), np.std(residues_tr)"
   ]
  },
  {
   "cell_type": "code",
   "execution_count": 180,
   "metadata": {},
   "outputs": [
    {
     "name": "stderr",
     "output_type": "stream",
     "text": [
      "C:\\Users\\i309535\\AppData\\Local\\Programs\\Python\\Python36\\lib\\site-packages\\xgboost\\core.py:587: FutureWarning: Series.base is deprecated and will be removed in a future version\n",
      "  if getattr(data, 'base', None) is not None and \\\n"
     ]
    },
    {
     "name": "stdout",
     "output_type": "stream",
     "text": [
      "R2 scores: 0.5284171088620976 0.22643708610580215\n",
      "RMSE scores: 10214.138230677572 12150.543892265463 \n",
      "\n"
     ]
    }
   ],
   "source": [
    "import xgboost\n",
    "xg_model = xgboost.XGBRegressor(colsample_bytree=0.4,\n",
    "                 gamma=0,                 \n",
    "                 learning_rate=0.007,\n",
    "                 max_depth=3,\n",
    "                 min_child_weight=1.5,\n",
    "                 n_estimators=2000,                                                                    \n",
    "                 reg_alpha=0.75,\n",
    "                 reg_lambda=0.45,\n",
    "                 subsample=0.6,\n",
    "                 seed=42) \n",
    "\n",
    "xg_model.fit(X_train, y_train)\n",
    "print('R2 scores:', xg_model.score(X_train, y_train), xg_model.score(X_test, y_test))\n",
    "print('RMSE scores:', rmse(xg_model.predict(X_train), y_train), rmse(xg_model.predict(X_test), y_test), '\\n')"
   ]
  },
  {
   "cell_type": "code",
   "execution_count": 256,
   "metadata": {},
   "outputs": [
    {
     "name": "stdout",
     "output_type": "stream",
     "text": [
      "2 : R2 scores: 0.3579620197702623 0.22257667159630456\n",
      "2 : RMSE scores: 11917.991478792892 12180.824403504099 \n",
      "\n",
      "3 : R2 scores: 0.3937694002362444 0.23081909752213325\n",
      "3 : RMSE scores: 11580.882027533149 12116.080348218888 \n",
      "\n",
      "4 : R2 scores: 0.42393491034839714 0.23636678437579395\n",
      "4 : RMSE scores: 11289.078403054704 12072.307903348752 \n",
      "\n",
      "5 : R2 scores: 0.4588665132707739 0.22847930542760642\n",
      "5 : RMSE scores: 10941.450896878336 12134.494470743832 \n",
      "\n",
      "6 : R2 scores: 0.5004512155171923 0.22970982974967025\n",
      "6 : RMSE scores: 10512.636888640329 12124.813752362705 \n",
      "\n",
      "7 : R2 scores: 0.5489421008728835 0.22584082302270347\n",
      "7 : RMSE scores: 9989.387426392597 12155.225816044476 \n",
      "\n",
      "8 : R2 scores: 0.599858953322888 0.22153819055812052\n",
      "8 : RMSE scores: 9408.692232394409 12188.957252889268 \n",
      "\n",
      "9 : R2 scores: 0.6517024147880477 0.2143502829177265\n",
      "9 : RMSE scores: 8778.047819366837 12245.101165742553 \n",
      "\n",
      "10 : R2 scores: 0.7026876720684752 0.2053401249522436\n",
      "10 : RMSE scores: 8110.1552783502475 12315.116953930914 \n",
      "\n"
     ]
    }
   ],
   "source": [
    "from sklearn.ensemble import RandomForestRegressor\n",
    "\n",
    "for md in range(2,11):\n",
    "    rf = RandomForestRegressor(n_estimators=500, n_jobs=-1, oob_score=True, max_depth=md)\n",
    "\n",
    "    rf.fit(X_train, y_train)\n",
    "    print(md, ': R2 scores:', rf.score(X_train, y_train), rf.score(X_test, y_test))\n",
    "    print(md, ': RMSE scores:', rmse(rf.predict(X_train), y_train), rmse(rf.predict(X_test), y_test), '\\n')"
   ]
  },
  {
   "cell_type": "code",
   "execution_count": 259,
   "metadata": {},
   "outputs": [
    {
     "name": "stdout",
     "output_type": "stream",
     "text": [
      "2 : R2 scores: 0.42353015021016327 0.2344920785988971\n",
      "2 : RMSE scores: 11293.043724557341 12087.117468742617 \n",
      "\n",
      "3 : R2 scores: 0.423058145567787 0.23625781065471804\n",
      "3 : RMSE scores: 11297.666063788884 12073.169257567291 \n",
      "\n",
      "4 : R2 scores: 0.4224417653957311 0.23377471122375593\n",
      "4 : RMSE scores: 11303.69942605293 12092.779639594468 \n",
      "\n",
      "5 : R2 scores: 0.4199685744445709 0.23781505776844614\n",
      "5 : RMSE scores: 11327.875639984131 12060.854564438418 \n",
      "\n",
      "6 : R2 scores: 0.417691722032597 0.2387039657640313\n",
      "6 : RMSE scores: 11350.087056939246 12053.819449232786 \n",
      "\n",
      "7 : R2 scores: 0.4159643645463921 0.24061884175580905\n",
      "7 : RMSE scores: 11366.909022702464 12038.65051304118 \n",
      "\n",
      "8 : R2 scores: 0.4147327694014199 0.23818491022896293\n",
      "8 : RMSE scores: 11378.887792920781 12057.927926973474 \n",
      "\n",
      "9 : R2 scores: 0.41377514434875384 0.23797912236826513\n",
      "9 : RMSE scores: 11388.193161260793 12059.556411152926 \n",
      "\n",
      "10 : R2 scores: 0.41298854118889217 0.23905725982210835\n",
      "10 : RMSE scores: 11395.831003354222 12051.02222136324 \n",
      "\n"
     ]
    }
   ],
   "source": [
    "for md in range(2,11):\n",
    "    rf = RandomForestRegressor(n_estimators=500, n_jobs=-1, oob_score=True, max_depth=4, min_samples_split=md)\n",
    "\n",
    "    rf.fit(X_train, y_train)\n",
    "    print(md, ': R2 scores:', rf.score(X_train, y_train), rf.score(X_test, y_test))\n",
    "    print(md, ': RMSE scores:', rmse(rf.predict(X_train), y_train), rmse(rf.predict(X_test), y_test), '\\n')"
   ]
  },
  {
   "cell_type": "code",
   "execution_count": 260,
   "metadata": {},
   "outputs": [
    {
     "name": "stdout",
     "output_type": "stream",
     "text": [
      "10 : R2 scores: 0.4178352657936535 0.24031571624182335\n",
      "10 : RMSE scores: 11348.688025993448 12041.053033823071 \n",
      "\n"
     ]
    }
   ],
   "source": [
    "rf = RandomForestRegressor(n_estimators=500, n_jobs=-1, oob_score=True, max_depth=4, min_samples_split=6)\n",
    "\n",
    "rf.fit(X_train, y_train)\n",
    "print(md, ': R2 scores:', rf.score(X_train, y_train), rf.score(X_test, y_test))\n",
    "print(md, ': RMSE scores:', rmse(rf.predict(X_train), y_train), rmse(rf.predict(X_test), y_test), '\\n')"
   ]
  },
  {
   "cell_type": "code",
   "execution_count": 177,
   "metadata": {},
   "outputs": [
    {
     "data": {
      "text/plain": [
       "[('Price', 0.28690407),\n",
       " ('month', 0.12432528),\n",
       " ('weekday', 0.10717807),\n",
       " ('Difference_To_Market', 0.22234382),\n",
       " ('year', 0.106188454),\n",
       " ('day_of_month', 0.15306035)]"
      ]
     },
     "execution_count": 177,
     "metadata": {},
     "output_type": "execute_result"
    }
   ],
   "source": [
    "list(zip(X.columns, xg_model.feature_importances_))"
   ]
  },
  {
   "cell_type": "code",
   "execution_count": 181,
   "metadata": {},
   "outputs": [],
   "source": [
    "from sklearn.preprocessing import PolynomialFeatures \n",
    "  \n",
    "poly = PolynomialFeatures(degree = 4) \n",
    "X_poly = poly.fit_transform(X) "
   ]
  },
  {
   "cell_type": "code",
   "execution_count": 183,
   "metadata": {},
   "outputs": [
    {
     "data": {
      "text/plain": [
       "((1826, 210), (1826, 6))"
      ]
     },
     "execution_count": 183,
     "metadata": {},
     "output_type": "execute_result"
    }
   ],
   "source": [
    "X_poly.shape, X.shape"
   ]
  },
  {
   "cell_type": "code",
   "execution_count": 189,
   "metadata": {},
   "outputs": [
    {
     "data": {
      "text/plain": [
       "((1223, 210), (603, 210))"
      ]
     },
     "execution_count": 189,
     "metadata": {},
     "output_type": "execute_result"
    }
   ],
   "source": [
    "X_train, X_test, y_train, y_test = train_test_split(\n",
    "    X_poly, y, test_size=0.33, random_state=42)\n",
    "\n",
    "X_train.shape, X_test.shape"
   ]
  },
  {
   "cell_type": "code",
   "execution_count": 191,
   "metadata": {},
   "outputs": [
    {
     "data": {
      "text/plain": [
       "RidgeCV(alphas=array([1.e-06, 1.e-05, 1.e-04, 1.e-03, 1.e-02, 1.e-01, 1.e+00, 1.e+01,\n",
       "       1.e+02, 1.e+03, 1.e+04, 1.e+05, 1.e+06]),\n",
       "    cv=None, fit_intercept=True, gcv_mode=None, normalize=False,\n",
       "    scoring=None, store_cv_values=False)"
      ]
     },
     "execution_count": 191,
     "metadata": {},
     "output_type": "execute_result"
    }
   ],
   "source": [
    "from sklearn.linear_model import RidgeCV\n",
    "from sklearn.metrics import mean_squared_error, r2_score\n",
    "\n",
    "lr_reg = RidgeCV(alphas=np.logspace(-6, 6, 13))\n",
    "lr_reg.fit(X_train, y_train)"
   ]
  },
  {
   "cell_type": "code",
   "execution_count": 195,
   "metadata": {},
   "outputs": [
    {
     "data": {
      "text/plain": [
       "1000000.0"
      ]
     },
     "execution_count": 195,
     "metadata": {},
     "output_type": "execute_result"
    }
   ],
   "source": [
    "lr_reg.alpha_"
   ]
  },
  {
   "cell_type": "code",
   "execution_count": 197,
   "metadata": {},
   "outputs": [
    {
     "data": {
      "text/plain": [
       "[-8.2562176434681,\n",
       " -5.613425847957842,\n",
       " -3.585423737526998,\n",
       " -3.056992615143491,\n",
       " -2.696431426192248,\n",
       " -2.0888593757022136,\n",
       " -2.03220703275656,\n",
       " -1.856485199801682,\n",
       " -1.7113894255950441,\n",
       " -1.62376879549808,\n",
       " -1.4879150390625,\n",
       " -1.4618125061970204,\n",
       " -1.3700204232300166,\n",
       " -0.9707550473394804,\n",
       " -0.9545178279600115,\n",
       " -0.90414640774563,\n",
       " -0.8709167548222467,\n",
       " -0.6896114663548829,\n",
       " -0.6795086703544939,\n",
       " -0.5601510151004732,\n",
       " -0.3815294756279286,\n",
       " -0.267729517350908,\n",
       " -0.24068567043491385,\n",
       " -0.23517523573147514,\n",
       " -0.22445496189538972,\n",
       " -0.2117919921875,\n",
       " -0.1197522372694948,\n",
       " -0.11577755280723068,\n",
       " -0.09024470760778058,\n",
       " -0.08211610722355545,\n",
       " -0.04001754659839207,\n",
       " -0.03539117321361118,\n",
       " -0.031562069430947304,\n",
       " -0.03006744384765625,\n",
       " -0.02929084137576865,\n",
       " -0.028291089078930298,\n",
       " -0.024559925898756774,\n",
       " -0.021915655663292455,\n",
       " -0.02011057535855798,\n",
       " -0.018877306529162752,\n",
       " -0.015829492397230638,\n",
       " -0.01461516774725169,\n",
       " -0.01122709913761355,\n",
       " -0.008493423461914062,\n",
       " -0.0070066581563428265,\n",
       " -0.006070570787414908,\n",
       " -0.005564685352652532,\n",
       " -0.005533030602402178,\n",
       " -0.004955291748046875,\n",
       " -0.004464124329388142,\n",
       " -0.0041421446949243546,\n",
       " -0.003324472811073065,\n",
       " -0.003250898511122813,\n",
       " -0.0031604631803929806,\n",
       " -0.002684416249394417,\n",
       " -0.0022921726558706723,\n",
       " -0.002262003719806671,\n",
       " -0.0016725685334897378,\n",
       " -0.0016318229027092457,\n",
       " -0.0015615224838256836,\n",
       " -0.0015414008812513202,\n",
       " -0.0015270658768713474,\n",
       " -0.0015020482242107391,\n",
       " -0.0013579320802818984,\n",
       " -0.0012914836406707764,\n",
       " -0.0012724995613098145,\n",
       " -0.001202911138534546,\n",
       " -0.0011888728477060795,\n",
       " -0.0011389851570129395,\n",
       " -0.0008045448921620846,\n",
       " -0.0007556728174336058,\n",
       " -0.0005756279279012233,\n",
       " -0.0005543851606785166,\n",
       " -0.0005517005920410156,\n",
       " -0.00054963119328022,\n",
       " -0.0005281998001009924,\n",
       " -0.0004998939111828804,\n",
       " -0.0004791530082002282,\n",
       " -0.00041484832763671875,\n",
       " -0.000355643147486262,\n",
       " -0.00030422210693359375,\n",
       " -0.00028682174161076546,\n",
       " -0.00024140020832419395,\n",
       " -0.0002145957842003554,\n",
       " -0.00020062923431396484,\n",
       " -0.00016349554061889648,\n",
       " -8.642231114208698e-05,\n",
       " -5.272811344925188e-05,\n",
       " -3.079138696193695e-05,\n",
       " -2.836005152326293e-05,\n",
       " -2.7760863304138184e-05,\n",
       " -1.712888479232788e-05,\n",
       " -1.0926276445388794e-05,\n",
       " -7.702969014644623e-06,\n",
       " -2.205371856689453e-06,\n",
       " -2.0629377104341984e-06,\n",
       " -1.1184765210670022e-06,\n",
       " -7.044023689339873e-08,\n",
       " 0.0,\n",
       " 1.6721756668051924e-07,\n",
       " 2.5701460377308694e-06,\n",
       " 2.866145223379135e-06,\n",
       " 1.691095530986786e-05,\n",
       " 1.8751248717308044e-05,\n",
       " 5.5752694606781006e-05,\n",
       " 7.010996341705322e-05,\n",
       " 7.488206028938293e-05,\n",
       " 0.0001380443572998047,\n",
       " 0.00016894546570256352,\n",
       " 0.0001738070568535477,\n",
       " 0.00017612889314477798,\n",
       " 0.00023995013907551765,\n",
       " 0.00028712605126202106,\n",
       " 0.0003056928805617032,\n",
       " 0.00034422149827406656,\n",
       " 0.0004159132076893002,\n",
       " 0.0004194974899291992,\n",
       " 0.0004597270806073056,\n",
       " 0.0005502868737057298,\n",
       " 0.0006709694862365723,\n",
       " 0.0006759583026151317,\n",
       " 0.0007361173629760742,\n",
       " 0.0007484832167392597,\n",
       " 0.0007707655313424766,\n",
       " 0.000906375778868096,\n",
       " 0.0009288042783737183,\n",
       " 0.0009325430728495121,\n",
       " 0.0009420067071914673,\n",
       " 0.0010451601665408816,\n",
       " 0.0011080503463745117,\n",
       " 0.0011149980127811432,\n",
       " 0.0011259372707428383,\n",
       " 0.0011307522654533386,\n",
       " 0.0011551380157470703,\n",
       " 0.001386441247893,\n",
       " 0.0014628320932388306,\n",
       " 0.001486154515077942,\n",
       " 0.001557615843239546,\n",
       " 0.001613119488996343,\n",
       " 0.001730606793020506,\n",
       " 0.0019388173095649108,\n",
       " 0.0021996881543060454,\n",
       " 0.002304615876184357,\n",
       " 0.002575397491455078,\n",
       " 0.0027869343757629395,\n",
       " 0.0030820780671341197,\n",
       " 0.0031905743362301564,\n",
       " 0.003208160400390625,\n",
       " 0.0034759332701845835,\n",
       " 0.0035216733813285828,\n",
       " 0.0038373470306396484,\n",
       " 0.004763560663606059,\n",
       " 0.005105018615722656,\n",
       " 0.005123991519212723,\n",
       " 0.0055739950548741035,\n",
       " 0.007249099110595125,\n",
       " 0.008083984481412898,\n",
       " 0.009293556213378906,\n",
       " 0.011288989335298538,\n",
       " 0.01156769042427186,\n",
       " 0.012927352200279074,\n",
       " 0.016679768450558186,\n",
       " 0.019840240478515625,\n",
       " 0.025967699679426914,\n",
       " 0.0289372911074679,\n",
       " 0.032302241306751966,\n",
       " 0.03438901172194164,\n",
       " 0.037654876708984375,\n",
       " 0.040874481201171875,\n",
       " 0.04382858487952035,\n",
       " 0.054805523970600234,\n",
       " 0.05854238398751477,\n",
       " 0.07847761769698991,\n",
       " 0.08480901881921454,\n",
       " 0.08619873465795536,\n",
       " 0.08910942763031926,\n",
       " 0.09859311476887456,\n",
       " 0.11001807451248169,\n",
       " 0.13415674764182484,\n",
       " 0.14875030517578125,\n",
       " 0.17769045615568757,\n",
       " 0.18708721583553256,\n",
       " 0.20053662887052326,\n",
       " 0.21902253199368715,\n",
       " 0.3074960790163459,\n",
       " 0.3610870740235441,\n",
       " 0.36177894155844115,\n",
       " 0.46143666944264794,\n",
       " 0.5351524118741509,\n",
       " 0.5822027522327602,\n",
       " 0.6787184978943515,\n",
       " 0.9034206872477881,\n",
       " 0.9717700427802924,\n",
       " 0.9931430697004089,\n",
       " 1.0685501098632812,\n",
       " 1.322040509785296,\n",
       " 1.3975391190008395,\n",
       " 1.410544017352322,\n",
       " 2.2347729483653893,\n",
       " 2.4120715884200763,\n",
       " 2.5484052943065763,\n",
       " 2.9500863172579557,\n",
       " 2.968027711397008,\n",
       " 3.0963412878300005,\n",
       " 4.494399692433035,\n",
       " 5.930688978257422,\n",
       " 6.638212317275475,\n",
       " 8.31787465988873,\n",
       " 8.452392578125,\n",
       " 62.26953125]"
      ]
     },
     "execution_count": 197,
     "metadata": {},
     "output_type": "execute_result"
    }
   ],
   "source": [
    "sorted(lr_reg.coef_)"
   ]
  },
  {
   "cell_type": "code",
   "execution_count": 198,
   "metadata": {},
   "outputs": [
    {
     "name": "stdout",
     "output_type": "stream",
     "text": [
      "R2 scores: -3.0538332605179213e+26 -6.462735585119332e+26\n",
      "RMSE scores: 2.5992339509390035e+17 3.512012816375944e+17 \n",
      "\n"
     ]
    }
   ],
   "source": [
    "print('R2 scores:', lr_reg.score(X_train, y_train), lr_reg.score(X_test, y_test))\n",
    "print('RMSE scores:', rmse(lr_reg.predict(X_train), y_train), rmse(lr_reg.predict(X_test), y_test), '\\n')"
   ]
  },
  {
   "cell_type": "code",
   "execution_count": 138,
   "metadata": {},
   "outputs": [],
   "source": [
    "def rmse(y_pred, y_true):\n",
    "    return np.sqrt(np.mean(np.square(y_pred-y_true)))"
   ]
  },
  {
   "cell_type": "code",
   "execution_count": 199,
   "metadata": {},
   "outputs": [
    {
     "data": {
      "text/plain": [
       "Index(['Price', 'month', 'weekday', 'Difference_To_Market', 'year',\n",
       "       'day_of_month'],\n",
       "      dtype='object')"
      ]
     },
     "execution_count": 199,
     "metadata": {},
     "output_type": "execute_result"
    }
   ],
   "source": [
    "X.columns"
   ]
  },
  {
   "cell_type": "code",
   "execution_count": 250,
   "metadata": {},
   "outputs": [
    {
     "name": "stdout",
     "output_type": "stream",
     "text": [
      "Train error: 1.4883643881182507e-09\n",
      "Test error: 13821.786897685812\n"
     ]
    }
   ],
   "source": [
    "from sklearn.gaussian_process import GaussianProcessRegressor\n",
    "from sklearn.gaussian_process.kernels import RBF, ConstantKernel as C\n",
    "\n",
    "\n",
    "kernel = C(1.0, (1e-3, 1e3)) * RBF(10, (1e-2, 1e2))\n",
    "gp = GaussianProcessRegressor(kernel=kernel, n_restarts_optimizer=9, normalize_y=True)\n",
    "\n",
    "# Fit to data using Maximum Likelihood Estimation of the parameters\n",
    "gp.fit(X_train, y_train)\n",
    "\n",
    "# Make the prediction on the meshed x-axis (ask for MSE as well)\n",
    "y_train_pred, sigma = gp.predict(X_train, return_std=True)\n",
    "y_test_pred, sigma = gp.predict(X_test, return_std=True)\n",
    "print('Train error:', rmse(y_train_pred, y_train))\n",
    "print('Test error:', rmse(y_test_pred, y_test))"
   ]
  },
  {
   "cell_type": "code",
   "execution_count": 239,
   "metadata": {},
   "outputs": [
    {
     "name": "stdout",
     "output_type": "stream",
     "text": [
      "Train error: 4.910145569981401e-06\n",
      "Test error: 49320.05346870467\n"
     ]
    }
   ],
   "source": [
    "kernel = RBF(1)\n",
    "gp = GaussianProcessRegressor(kernel=kernel, n_restarts_optimizer=9)\n",
    "\n",
    "# Fit to data using Maximum Likelihood Estimation of the parameters\n",
    "gp.fit(X_train, y_train)\n",
    "\n",
    "# Make the prediction on the meshed x-axis (ask for MSE as well)\n",
    "y_train_pred, sigma = gp.predict(X_train, return_std=True)\n",
    "y_test_pred, sigma = gp.predict(X_test, return_std=True)\n",
    "print('Train error:', rmse(y_train_pred, y_train))\n",
    "print('Test error:', rmse(y_test_pred, y_test))"
   ]
  },
  {
   "cell_type": "code",
   "execution_count": 240,
   "metadata": {},
   "outputs": [
    {
     "data": {
      "text/plain": [
       "GaussianProcessRegressor(alpha=1e-10, copy_X_train=True,\n",
       "             kernel=RBF(length_scale=1), n_restarts_optimizer=9,\n",
       "             normalize_y=False, optimizer='fmin_l_bfgs_b',\n",
       "             random_state=None)"
      ]
     },
     "execution_count": 240,
     "metadata": {},
     "output_type": "execute_result"
    }
   ],
   "source": [
    "gp"
   ]
  },
  {
   "cell_type": "code",
   "execution_count": 253,
   "metadata": {},
   "outputs": [
    {
     "name": "stdout",
     "output_type": "stream",
     "text": [
      "Train error: 1.7379705557540034e-11\n",
      "Test error: 13821.785820842128\n"
     ]
    }
   ],
   "source": [
    "gp = GaussianProcessRegressor(kernel=1.0 * RBF(1.0), normalize_y=True, n_restarts_optimizer=8)\n",
    "\n",
    "# Fit to data using Maximum Likelihood Estimation of the parameters\n",
    "gp.fit(X_train, y_train)\n",
    "\n",
    "# Make the prediction on the meshed x-axis (ask for MSE as well)\n",
    "y_train_pred, sigma = gp.predict(X_train, return_std=True)\n",
    "y_test_pred, sigma = gp.predict(X_test, return_std=True)\n",
    "print('Train error:', rmse(y_train_pred, y_train))\n",
    "print('Test error:', rmse(y_test_pred, y_test))"
   ]
  },
  {
   "cell_type": "code",
   "execution_count": 242,
   "metadata": {},
   "outputs": [
    {
     "name": "stdout",
     "output_type": "stream",
     "text": [
      "Train error: 1.8355717758987285e-11\n",
      "Test error: 13825.898340039505\n"
     ]
    }
   ],
   "source": [
    "kernel = 1.0 * RBF(1.0)\n",
    "gp = GaussianProcessRegressor(kernel=kernel, normalize_y=True)\n",
    "\n",
    "# Fit to data using Maximum Likelihood Estimation of the parameters\n",
    "gp.fit(X_train, y_train)\n",
    "\n",
    "# Make the prediction on the meshed x-axis (ask for MSE as well)\n",
    "y_train_pred, sigma = gp.predict(X_train, return_std=True)\n",
    "y_test_pred, sigma = gp.predict(X_test, return_std=True)\n",
    "print('Train error:', rmse(y_train_pred, y_train))\n",
    "print('Test error:', rmse(y_test_pred, y_test))"
   ]
  },
  {
   "cell_type": "code",
   "execution_count": 249,
   "metadata": {},
   "outputs": [
    {
     "name": "stdout",
     "output_type": "stream",
     "text": [
      "Train error: 1.8355717758987285e-11\n",
      "Test error: 13825.898340039505\n"
     ]
    }
   ],
   "source": [
    "kernel = 10 * RBF(10)\n",
    "\n",
    "gp = GaussianProcessRegressor(kernel=kernel, normalize_y=True)\n",
    "\n",
    "# Fit to data using Maximum Likelihood Estimation of the parameters\n",
    "gp.fit(X_train, y_train)\n",
    "\n",
    "# Make the prediction on the meshed x-axis (ask for MSE as well)\n",
    "y_train_pred, sigma = gp.predict(X_train, return_std=True)\n",
    "y_test_pred, sigma = gp.predict(X_test, return_std=True)\n",
    "print('Train error:', rmse(y_train_pred, y_train))\n",
    "print('Test error:', rmse(y_test_pred, y_test))\n"
   ]
  },
  {
   "cell_type": "code",
   "execution_count": 283,
   "metadata": {},
   "outputs": [
    {
     "name": "stdout",
     "output_type": "stream",
     "text": [
      "Train error: 9.771445154173156e-11\n",
      "Test error: 0.9507981113393087\n",
      "Train error: 9.771445154173156e-11\n",
      "Test error: 0.9507981113393087\n",
      "Train error: 1.0114982741602799e-10\n",
      "Test error: 0.9580873589326402\n",
      "Train error: 9.771451382350853e-11\n",
      "Test error: 0.9507981113393087\n",
      "Train error: 9.771482580017181e-11\n",
      "Test error: 0.9507981113393087\n",
      "Train error: 9.771479581950147e-11\n",
      "Test error: 0.9507981113393087\n"
     ]
    }
   ],
   "source": [
    "dists = [0.001, 0.01, 0.1, 1, 10, 100]\n",
    "\n",
    "for dist in dists:\n",
    "    kernel = 1 * RBF(dist)\n",
    "\n",
    "    gp = GaussianProcessRegressor(kernel=kernel)\n",
    "\n",
    "    # Fit to data using Maximum Likelihood Estimation of the parameters\n",
    "    gp.fit(X_scaled_train, y_scaled_train)\n",
    "\n",
    "    # Make the prediction on the meshed x-axis (ask for MSE as well)\n",
    "    y_train_pred, sigma = gp.predict(X_scaled_train, return_std=True)\n",
    "    y_test_pred, sigma = gp.predict(X_scaled_test, return_std=True)\n",
    "\n",
    "    print('Train error:', rmse(y_train_pred, y_scaled_train))\n",
    "    print('Test error:', rmse(y_test_pred, y_scaled_test))"
   ]
  },
  {
   "cell_type": "code",
   "execution_count": 238,
   "metadata": {},
   "outputs": [
    {
     "data": {
      "text/plain": [
       "GaussianProcessRegressor(alpha=1e-10, copy_X_train=True, kernel=None,\n",
       "             n_restarts_optimizer=0, normalize_y=False,\n",
       "             optimizer='fmin_l_bfgs_b', random_state=None)"
      ]
     },
     "execution_count": 238,
     "metadata": {},
     "output_type": "execute_result"
    }
   ],
   "source": [
    "gp"
   ]
  },
  {
   "cell_type": "code",
   "execution_count": 232,
   "metadata": {},
   "outputs": [
    {
     "name": "stdout",
     "output_type": "stream",
     "text": [
      "Train error: 0.0004517874769919925\n",
      "Test error: 28350.514486757787\n"
     ]
    }
   ],
   "source": [
    "gaus_kernel = np.exp(-1/2.0 * np.power(x - y, 2) / 1)\n",
    "\n",
    "gp = GaussianProcessRegressor(kernel=gaus_kernel)\n",
    "\n",
    "# Fit to data using Maximum Likelihood Estimation of the parameters\n",
    "gp.fit(X_train, y_train)\n",
    "\n",
    "# Make the prediction on the meshed x-axis (ask for MSE as well)\n",
    "y_train_pred, sigma = gp.predict(X_train, return_std=True)\n",
    "y_test_pred, sigma = gp.predict(X_test, return_std=True)\n",
    "print('Train error:', rmse(y_train_pred, y_train))\n",
    "print('Test error:', rmse(y_test_pred, y_test))"
   ]
  },
  {
   "cell_type": "code",
   "execution_count": 225,
   "metadata": {},
   "outputs": [],
   "source": [
    "class GP(object):\n",
    "\n",
    "    @classmethod\n",
    "    def kernel_bell_shape(cls, x, y, delta=1.0):\n",
    "        return np.exp(-1/2.0 * np.power(x - y, 2) / delta)\n",
    "\n",
    "    @classmethod\n",
    "    def kernel_laplacian(cls, x, y, delta=1):\n",
    "        return np.exp(-1/2.0 * np.abs(x - y) / delta)\n",
    "\n",
    "    @classmethod\n",
    "    def generate_kernel(cls, kernel, delta=1):\n",
    "        def wrapper(*args, **kwargs):\n",
    "            kwargs.update({\"delta\": delta})\n",
    "            return kernel(*args, **kwargs)\n",
    "        return wrapper\n",
    "\n",
    "    def __init__(self, x, y, cov_f=None, R=0):\n",
    "        super().__init__()\n",
    "        self.x = x\n",
    "        self.y = y\n",
    "        self.N = len(self.x)\n",
    "        self.R = R\n",
    "\n",
    "        self.sigma = []\n",
    "        self.mean = []\n",
    "        self.cov_f = cov_f if cov_f else self.kernel_bell_shape\n",
    "        self.setup_sigma()\n",
    "\n",
    "    @classmethod\n",
    "    def calculate_sigma(cls, x, cov_f, R=0):\n",
    "        N = len(x)\n",
    "        sigma = np.ones((N, N))\n",
    "        for i in range(N):\n",
    "            for j in range(i+1, N):\n",
    "                cov = cov_f(x[i], x[j])\n",
    "                sigma[i][j] = cov\n",
    "                sigma[j][i] = cov\n",
    "\n",
    "        sigma = sigma + R * np.eye(N)\n",
    "        return sigma\n",
    "\n",
    "    def setup_sigma(self):\n",
    "        self.sigma = self.calculate_sigma(self.x, self.cov_f, self.R)\n",
    "\n",
    "    def predict(self, x):\n",
    "        cov = 1 + self.R * self.cov_f(x, x)\n",
    "        sigma_1_2 = np.zeros((self.N, 1))\n",
    "        for i in range(self.N):\n",
    "            sigma_1_2[i] = self.cov_f(self.x[i], x)\n",
    "\n",
    "        # SIGMA_1_2 * SIGMA_1_1.I * (Y.T -M)\n",
    "        # M IS ZERO\n",
    "        m_expt = (sigma_1_2.T * np.mat(self.sigma).I) * np.mat(self.y).T\n",
    "        # sigma_expt = cov - (sigma_1_2.T * np.mat(self.sigma).I) * sigma_1_2\n",
    "        sigma_expt = cov + self.R - (sigma_1_2.T * np.mat(self.sigma).I) * sigma_1_2\n",
    "        return m_expt, sigma_expt\n",
    "\n",
    "    @staticmethod\n",
    "    def get_probability(sigma, y, R):\n",
    "        multiplier = np.power(np.linalg.det(2 * np.pi * sigma), -0.5)\n",
    "        return multiplier * np.exp(\n",
    "            (-0.5) * (np.mat(y) * np.dot(np.mat(sigma).I, y).T))\n",
    "\n",
    "    def optimize(self, R_list, B_list):\n",
    "\n",
    "        def cov_f_proxy(delta, f):\n",
    "            def wrapper(*args, **kwargs):\n",
    "                kwargs.update({\"delta\": delta})\n",
    "                return f(*args, **kwargs)\n",
    "            return wrapper\n",
    "\n",
    "        best = (0, 0, 0)\n",
    "        history = []\n",
    "        for r in R_list:\n",
    "            best_beta = (0, 0)\n",
    "            for b in B_list:\n",
    "                sigma = gaus.calculate_sigma(self.x, cov_f_proxy(b, self.cov_f), r)\n",
    "                marginal = b* float(self.get_probability(sigma, self.y, r))\n",
    "                if marginal > best_beta[0]:\n",
    "                    best_beta = (marginal, b)\n",
    "            history.append((best_beta[0], r, best_beta[1]))\n",
    "        return sorted(history)[-1], np.mat(history)"
   ]
  },
  {
   "cell_type": "code",
   "execution_count": 226,
   "metadata": {},
   "outputs": [
    {
     "data": {
      "text/plain": [
       "[<matplotlib.lines.Line2D at 0x14da7eda0b8>]"
      ]
     },
     "execution_count": 226,
     "metadata": {},
     "output_type": "execute_result"
    },
    {
     "data": {
      "image/png": "[encoded data removed]",
      "text/plain": [
       "<Figure size 432x288 with 1 Axes>"
      ]
     },
     "metadata": {
      "needs_background": "light"
     },
     "output_type": "display_data"
    }
   ],
   "source": [
    "x = np.array([-2, -1, 0, 3.5, 4]);\n",
    "y = np.array([4.1, 0.9, 2, 12.3, 15.8])\n",
    "gaus = GP(x, y)\n",
    "\n",
    "x_guess = np.linspace(-5, 16, 400)\n",
    "y_pred = np.vectorize(gaus.predict)(x_guess)\n",
    "\n",
    "plt.scatter(x, y, c=\"black\")\n",
    "plt.plot(x_guess, y_pred[0], c=\"b\")\n",
    "plt.plot(x_guess, y_pred[0] - np.sqrt(y_pred[1]) * 3, \"r:\")\n",
    "plt.plot(x_guess, y_pred[0] + np.sqrt(y_pred[1]) * 3, \"r:\")"
   ]
  },
  {
   "cell_type": "code",
   "execution_count": 227,
   "metadata": {},
   "outputs": [
    {
     "ename": "ValueError",
     "evalue": "setting an array element with a sequence.",
     "output_type": "error",
     "traceback": [
      "\u001b[1;31m---------------------------------------------------------------------------\u001b[0m",
      "\u001b[1;31mValueError\u001b[0m                                Traceback (most recent call last)",
      "\u001b[1;32m<ipython-input-227-dd4c7c1fd287>\u001b[0m in \u001b[0;36m<module>\u001b[1;34m\u001b[0m\n\u001b[1;32m----> 1\u001b[1;33m \u001b[0mgaus\u001b[0m \u001b[1;33m=\u001b[0m \u001b[0mGP\u001b[0m\u001b[1;33m(\u001b[0m\u001b[0mX_train\u001b[0m\u001b[1;33m,\u001b[0m \u001b[0my_train\u001b[0m\u001b[1;33m)\u001b[0m\u001b[1;33m\u001b[0m\u001b[1;33m\u001b[0m\u001b[0m\n\u001b[0m\u001b[0;32m      2\u001b[0m \u001b[0mprint\u001b[0m\u001b[1;33m(\u001b[0m\u001b[1;34m'Train error:'\u001b[0m\u001b[1;33m,\u001b[0m \u001b[0mrmse\u001b[0m\u001b[1;33m(\u001b[0m\u001b[0mgaus\u001b[0m\u001b[1;33m.\u001b[0m\u001b[0mpredict\u001b[0m\u001b[1;33m(\u001b[0m\u001b[0mX_train\u001b[0m\u001b[1;33m)\u001b[0m\u001b[1;33m,\u001b[0m \u001b[0my_train\u001b[0m\u001b[1;33m)\u001b[0m\u001b[1;33m)\u001b[0m\u001b[1;33m\u001b[0m\u001b[1;33m\u001b[0m\u001b[0m\n\u001b[0;32m      3\u001b[0m \u001b[0mprint\u001b[0m\u001b[1;33m(\u001b[0m\u001b[1;34m'Test error:'\u001b[0m\u001b[1;33m,\u001b[0m \u001b[0mrmse\u001b[0m\u001b[1;33m(\u001b[0m\u001b[0mgaus\u001b[0m\u001b[1;33m.\u001b[0m\u001b[0mpredict\u001b[0m\u001b[1;33m(\u001b[0m\u001b[0mX_test\u001b[0m\u001b[1;33m)\u001b[0m\u001b[1;33m,\u001b[0m \u001b[0my_test\u001b[0m\u001b[1;33m)\u001b[0m\u001b[1;33m)\u001b[0m\u001b[1;33m\u001b[0m\u001b[1;33m\u001b[0m\u001b[0m\n",
      "\u001b[1;32m<ipython-input-225-0e27067d8b41>\u001b[0m in \u001b[0;36m__init__\u001b[1;34m(self, x, y, cov_f, R)\u001b[0m\n\u001b[0;32m     26\u001b[0m         \u001b[0mself\u001b[0m\u001b[1;33m.\u001b[0m\u001b[0mmean\u001b[0m \u001b[1;33m=\u001b[0m \u001b[1;33m[\u001b[0m\u001b[1;33m]\u001b[0m\u001b[1;33m\u001b[0m\u001b[1;33m\u001b[0m\u001b[0m\n\u001b[0;32m     27\u001b[0m         \u001b[0mself\u001b[0m\u001b[1;33m.\u001b[0m\u001b[0mcov_f\u001b[0m \u001b[1;33m=\u001b[0m \u001b[0mcov_f\u001b[0m \u001b[1;32mif\u001b[0m \u001b[0mcov_f\u001b[0m \u001b[1;32melse\u001b[0m \u001b[0mself\u001b[0m\u001b[1;33m.\u001b[0m\u001b[0mkernel_bell_shape\u001b[0m\u001b[1;33m\u001b[0m\u001b[1;33m\u001b[0m\u001b[0m\n\u001b[1;32m---> 28\u001b[1;33m         \u001b[0mself\u001b[0m\u001b[1;33m.\u001b[0m\u001b[0msetup_sigma\u001b[0m\u001b[1;33m(\u001b[0m\u001b[1;33m)\u001b[0m\u001b[1;33m\u001b[0m\u001b[1;33m\u001b[0m\u001b[0m\n\u001b[0m\u001b[0;32m     29\u001b[0m \u001b[1;33m\u001b[0m\u001b[0m\n\u001b[0;32m     30\u001b[0m     \u001b[1;33m@\u001b[0m\u001b[0mclassmethod\u001b[0m\u001b[1;33m\u001b[0m\u001b[1;33m\u001b[0m\u001b[0m\n",
      "\u001b[1;32m<ipython-input-225-0e27067d8b41>\u001b[0m in \u001b[0;36msetup_sigma\u001b[1;34m(self)\u001b[0m\n\u001b[0;32m     42\u001b[0m \u001b[1;33m\u001b[0m\u001b[0m\n\u001b[0;32m     43\u001b[0m     \u001b[1;32mdef\u001b[0m \u001b[0msetup_sigma\u001b[0m\u001b[1;33m(\u001b[0m\u001b[0mself\u001b[0m\u001b[1;33m)\u001b[0m\u001b[1;33m:\u001b[0m\u001b[1;33m\u001b[0m\u001b[1;33m\u001b[0m\u001b[0m\n\u001b[1;32m---> 44\u001b[1;33m         \u001b[0mself\u001b[0m\u001b[1;33m.\u001b[0m\u001b[0msigma\u001b[0m \u001b[1;33m=\u001b[0m \u001b[0mself\u001b[0m\u001b[1;33m.\u001b[0m\u001b[0mcalculate_sigma\u001b[0m\u001b[1;33m(\u001b[0m\u001b[0mself\u001b[0m\u001b[1;33m.\u001b[0m\u001b[0mx\u001b[0m\u001b[1;33m,\u001b[0m \u001b[0mself\u001b[0m\u001b[1;33m.\u001b[0m\u001b[0mcov_f\u001b[0m\u001b[1;33m,\u001b[0m \u001b[0mself\u001b[0m\u001b[1;33m.\u001b[0m\u001b[0mR\u001b[0m\u001b[1;33m)\u001b[0m\u001b[1;33m\u001b[0m\u001b[1;33m\u001b[0m\u001b[0m\n\u001b[0m\u001b[0;32m     45\u001b[0m \u001b[1;33m\u001b[0m\u001b[0m\n\u001b[0;32m     46\u001b[0m     \u001b[1;32mdef\u001b[0m \u001b[0mpredict\u001b[0m\u001b[1;33m(\u001b[0m\u001b[0mself\u001b[0m\u001b[1;33m,\u001b[0m \u001b[0mx\u001b[0m\u001b[1;33m)\u001b[0m\u001b[1;33m:\u001b[0m\u001b[1;33m\u001b[0m\u001b[1;33m\u001b[0m\u001b[0m\n",
      "\u001b[1;32m<ipython-input-225-0e27067d8b41>\u001b[0m in \u001b[0;36mcalculate_sigma\u001b[1;34m(cls, x, cov_f, R)\u001b[0m\n\u001b[0;32m     35\u001b[0m             \u001b[1;32mfor\u001b[0m \u001b[0mj\u001b[0m \u001b[1;32min\u001b[0m \u001b[0mrange\u001b[0m\u001b[1;33m(\u001b[0m\u001b[0mi\u001b[0m\u001b[1;33m+\u001b[0m\u001b[1;36m1\u001b[0m\u001b[1;33m,\u001b[0m \u001b[0mN\u001b[0m\u001b[1;33m)\u001b[0m\u001b[1;33m:\u001b[0m\u001b[1;33m\u001b[0m\u001b[1;33m\u001b[0m\u001b[0m\n\u001b[0;32m     36\u001b[0m                 \u001b[0mcov\u001b[0m \u001b[1;33m=\u001b[0m \u001b[0mcov_f\u001b[0m\u001b[1;33m(\u001b[0m\u001b[0mx\u001b[0m\u001b[1;33m[\u001b[0m\u001b[0mi\u001b[0m\u001b[1;33m]\u001b[0m\u001b[1;33m,\u001b[0m \u001b[0mx\u001b[0m\u001b[1;33m[\u001b[0m\u001b[0mj\u001b[0m\u001b[1;33m]\u001b[0m\u001b[1;33m)\u001b[0m\u001b[1;33m\u001b[0m\u001b[1;33m\u001b[0m\u001b[0m\n\u001b[1;32m---> 37\u001b[1;33m                 \u001b[0msigma\u001b[0m\u001b[1;33m[\u001b[0m\u001b[0mi\u001b[0m\u001b[1;33m]\u001b[0m\u001b[1;33m[\u001b[0m\u001b[0mj\u001b[0m\u001b[1;33m]\u001b[0m \u001b[1;33m=\u001b[0m \u001b[0mcov\u001b[0m\u001b[1;33m\u001b[0m\u001b[1;33m\u001b[0m\u001b[0m\n\u001b[0m\u001b[0;32m     38\u001b[0m                 \u001b[0msigma\u001b[0m\u001b[1;33m[\u001b[0m\u001b[0mj\u001b[0m\u001b[1;33m]\u001b[0m\u001b[1;33m[\u001b[0m\u001b[0mi\u001b[0m\u001b[1;33m]\u001b[0m \u001b[1;33m=\u001b[0m \u001b[0mcov\u001b[0m\u001b[1;33m\u001b[0m\u001b[1;33m\u001b[0m\u001b[0m\n\u001b[0;32m     39\u001b[0m \u001b[1;33m\u001b[0m\u001b[0m\n",
      "\u001b[1;31mValueError\u001b[0m: setting an array element with a sequence."
     ]
    }
   ],
   "source": [
    "gaus = GP(X_train, y_train)\n",
    "print('Train error:', rmse(gaus.predict(X_train), y_train))\n",
    "print('Test error:', rmse(gaus.predict(X_test), y_test))"
   ]
  },
  {
   "cell_type": "code",
   "execution_count": null,
   "metadata": {},
   "outputs": [],
   "source": []
  },
  {
   "cell_type": "code",
   "execution_count": null,
   "metadata": {},
   "outputs": [],
   "source": []
  },
  {
   "cell_type": "code",
   "execution_count": null,
   "metadata": {},
   "outputs": [],
   "source": []
  },
  {
   "cell_type": "code",
   "execution_count": null,
   "metadata": {},
   "outputs": [],
   "source": []
  },
  {
   "cell_type": "code",
   "execution_count": 137,
   "metadata": {},
   "outputs": [
    {
     "data": {
      "text/plain": [
       "1.8061947878429808e-08"
      ]
     },
     "execution_count": 137,
     "metadata": {},
     "output_type": "execute_result"
    }
   ],
   "source": [
    "np.sqrt(np.mean(np.square(y_train_pred- y_train)))"
   ]
  },
  {
   "cell_type": "code",
   "execution_count": 223,
   "metadata": {},
   "outputs": [
    {
     "ename": "ValueError",
     "evalue": "Invalid parameter corr for estimator GaussianProcessRegressor(alpha=1e-10, copy_X_train=True, kernel=None,\n             n_restarts_optimizer=0, normalize_y=False,\n             optimizer='fmin_l_bfgs_b', random_state=None). Check the list of available parameters with `estimator.get_params().keys()`.",
     "output_type": "error",
     "traceback": [
      "\u001b[1;31m---------------------------------------------------------------------------\u001b[0m",
      "\u001b[1;31mValueError\u001b[0m                                Traceback (most recent call last)",
      "\u001b[1;32m<ipython-input-223-f3fae01bc4ec>\u001b[0m in \u001b[0;36m<module>\u001b[1;34m\u001b[0m\n\u001b[0;32m      5\u001b[0m \u001b[0mgp\u001b[0m \u001b[1;33m=\u001b[0m \u001b[0mGridSearchCV\u001b[0m\u001b[1;33m(\u001b[0m\u001b[0mGaussianProcessRegressor\u001b[0m\u001b[1;33m(\u001b[0m\u001b[1;33m)\u001b[0m\u001b[1;33m,\u001b[0m \u001b[0mtuned_parameters\u001b[0m\u001b[1;33m,\u001b[0m \u001b[0mcv\u001b[0m\u001b[1;33m=\u001b[0m\u001b[1;36m5\u001b[0m\u001b[1;33m)\u001b[0m\u001b[1;33m\u001b[0m\u001b[1;33m\u001b[0m\u001b[0m\n\u001b[0;32m      6\u001b[0m \u001b[1;33m\u001b[0m\u001b[0m\n\u001b[1;32m----> 7\u001b[1;33m \u001b[0mgp\u001b[0m\u001b[1;33m.\u001b[0m\u001b[0mfit\u001b[0m\u001b[1;33m(\u001b[0m\u001b[0mX_train\u001b[0m\u001b[1;33m,\u001b[0m \u001b[0my_train\u001b[0m\u001b[1;33m)\u001b[0m\u001b[1;33m\u001b[0m\u001b[1;33m\u001b[0m\u001b[0m\n\u001b[0m\u001b[0;32m      8\u001b[0m \u001b[0mprint\u001b[0m\u001b[1;33m(\u001b[0m\u001b[0mgp\u001b[0m\u001b[1;33m.\u001b[0m\u001b[0mbest_params_\u001b[0m\u001b[1;33m)\u001b[0m\u001b[1;33m\u001b[0m\u001b[1;33m\u001b[0m\u001b[0m\n",
      "\u001b[1;32m~\\AppData\\Local\\Programs\\Python\\Python36\\lib\\site-packages\\sklearn\\model_selection\\_search.py\u001b[0m in \u001b[0;36mfit\u001b[1;34m(self, X, y, groups, **fit_params)\u001b[0m\n\u001b[0;32m    720\u001b[0m                 \u001b[1;32mreturn\u001b[0m \u001b[0mresults_container\u001b[0m\u001b[1;33m[\u001b[0m\u001b[1;36m0\u001b[0m\u001b[1;33m]\u001b[0m\u001b[1;33m\u001b[0m\u001b[1;33m\u001b[0m\u001b[0m\n\u001b[0;32m    721\u001b[0m \u001b[1;33m\u001b[0m\u001b[0m\n\u001b[1;32m--> 722\u001b[1;33m             \u001b[0mself\u001b[0m\u001b[1;33m.\u001b[0m\u001b[0m_run_search\u001b[0m\u001b[1;33m(\u001b[0m\u001b[0mevaluate_candidates\u001b[0m\u001b[1;33m)\u001b[0m\u001b[1;33m\u001b[0m\u001b[1;33m\u001b[0m\u001b[0m\n\u001b[0m\u001b[0;32m    723\u001b[0m \u001b[1;33m\u001b[0m\u001b[0m\n\u001b[0;32m    724\u001b[0m         \u001b[0mresults\u001b[0m \u001b[1;33m=\u001b[0m \u001b[0mresults_container\u001b[0m\u001b[1;33m[\u001b[0m\u001b[1;36m0\u001b[0m\u001b[1;33m]\u001b[0m\u001b[1;33m\u001b[0m\u001b[1;33m\u001b[0m\u001b[0m\n",
      "\u001b[1;32m~\\AppData\\Local\\Programs\\Python\\Python36\\lib\\site-packages\\sklearn\\model_selection\\_search.py\u001b[0m in \u001b[0;36m_run_search\u001b[1;34m(self, evaluate_candidates)\u001b[0m\n\u001b[0;32m   1189\u001b[0m     \u001b[1;32mdef\u001b[0m \u001b[0m_run_search\u001b[0m\u001b[1;33m(\u001b[0m\u001b[0mself\u001b[0m\u001b[1;33m,\u001b[0m \u001b[0mevaluate_candidates\u001b[0m\u001b[1;33m)\u001b[0m\u001b[1;33m:\u001b[0m\u001b[1;33m\u001b[0m\u001b[1;33m\u001b[0m\u001b[0m\n\u001b[0;32m   1190\u001b[0m         \u001b[1;34m\"\"\"Search all candidates in param_grid\"\"\"\u001b[0m\u001b[1;33m\u001b[0m\u001b[1;33m\u001b[0m\u001b[0m\n\u001b[1;32m-> 1191\u001b[1;33m         \u001b[0mevaluate_candidates\u001b[0m\u001b[1;33m(\u001b[0m\u001b[0mParameterGrid\u001b[0m\u001b[1;33m(\u001b[0m\u001b[0mself\u001b[0m\u001b[1;33m.\u001b[0m\u001b[0mparam_grid\u001b[0m\u001b[1;33m)\u001b[0m\u001b[1;33m)\u001b[0m\u001b[1;33m\u001b[0m\u001b[1;33m\u001b[0m\u001b[0m\n\u001b[0m\u001b[0;32m   1192\u001b[0m \u001b[1;33m\u001b[0m\u001b[0m\n\u001b[0;32m   1193\u001b[0m \u001b[1;33m\u001b[0m\u001b[0m\n",
      "\u001b[1;32m~\\AppData\\Local\\Programs\\Python\\Python36\\lib\\site-packages\\sklearn\\model_selection\\_search.py\u001b[0m in \u001b[0;36mevaluate_candidates\u001b[1;34m(candidate_params)\u001b[0m\n\u001b[0;32m    709\u001b[0m                                \u001b[1;32mfor\u001b[0m \u001b[0mparameters\u001b[0m\u001b[1;33m,\u001b[0m \u001b[1;33m(\u001b[0m\u001b[0mtrain\u001b[0m\u001b[1;33m,\u001b[0m \u001b[0mtest\u001b[0m\u001b[1;33m)\u001b[0m\u001b[1;33m\u001b[0m\u001b[1;33m\u001b[0m\u001b[0m\n\u001b[0;32m    710\u001b[0m                                in product(candidate_params,\n\u001b[1;32m--> 711\u001b[1;33m                                           cv.split(X, y, groups)))\n\u001b[0m\u001b[0;32m    712\u001b[0m \u001b[1;33m\u001b[0m\u001b[0m\n\u001b[0;32m    713\u001b[0m                 \u001b[0mall_candidate_params\u001b[0m\u001b[1;33m.\u001b[0m\u001b[0mextend\u001b[0m\u001b[1;33m(\u001b[0m\u001b[0mcandidate_params\u001b[0m\u001b[1;33m)\u001b[0m\u001b[1;33m\u001b[0m\u001b[1;33m\u001b[0m\u001b[0m\n",
      "\u001b[1;32m~\\AppData\\Local\\Programs\\Python\\Python36\\lib\\site-packages\\sklearn\\externals\\joblib\\parallel.py\u001b[0m in \u001b[0;36m__call__\u001b[1;34m(self, iterable)\u001b[0m\n\u001b[0;32m    915\u001b[0m             \u001b[1;31m# remaining jobs.\u001b[0m\u001b[1;33m\u001b[0m\u001b[1;33m\u001b[0m\u001b[1;33m\u001b[0m\u001b[0m\n\u001b[0;32m    916\u001b[0m             \u001b[0mself\u001b[0m\u001b[1;33m.\u001b[0m\u001b[0m_iterating\u001b[0m \u001b[1;33m=\u001b[0m \u001b[1;32mFalse\u001b[0m\u001b[1;33m\u001b[0m\u001b[1;33m\u001b[0m\u001b[0m\n\u001b[1;32m--> 917\u001b[1;33m             \u001b[1;32mif\u001b[0m \u001b[0mself\u001b[0m\u001b[1;33m.\u001b[0m\u001b[0mdispatch_one_batch\u001b[0m\u001b[1;33m(\u001b[0m\u001b[0miterator\u001b[0m\u001b[1;33m)\u001b[0m\u001b[1;33m:\u001b[0m\u001b[1;33m\u001b[0m\u001b[1;33m\u001b[0m\u001b[0m\n\u001b[0m\u001b[0;32m    918\u001b[0m                 \u001b[0mself\u001b[0m\u001b[1;33m.\u001b[0m\u001b[0m_iterating\u001b[0m \u001b[1;33m=\u001b[0m \u001b[0mself\u001b[0m\u001b[1;33m.\u001b[0m\u001b[0m_original_iterator\u001b[0m \u001b[1;32mis\u001b[0m \u001b[1;32mnot\u001b[0m \u001b[1;32mNone\u001b[0m\u001b[1;33m\u001b[0m\u001b[1;33m\u001b[0m\u001b[0m\n\u001b[0;32m    919\u001b[0m \u001b[1;33m\u001b[0m\u001b[0m\n",
      "\u001b[1;32m~\\AppData\\Local\\Programs\\Python\\Python36\\lib\\site-packages\\sklearn\\externals\\joblib\\parallel.py\u001b[0m in \u001b[0;36mdispatch_one_batch\u001b[1;34m(self, iterator)\u001b[0m\n\u001b[0;32m    757\u001b[0m                 \u001b[1;32mreturn\u001b[0m \u001b[1;32mFalse\u001b[0m\u001b[1;33m\u001b[0m\u001b[1;33m\u001b[0m\u001b[0m\n\u001b[0;32m    758\u001b[0m             \u001b[1;32melse\u001b[0m\u001b[1;33m:\u001b[0m\u001b[1;33m\u001b[0m\u001b[1;33m\u001b[0m\u001b[0m\n\u001b[1;32m--> 759\u001b[1;33m                 \u001b[0mself\u001b[0m\u001b[1;33m.\u001b[0m\u001b[0m_dispatch\u001b[0m\u001b[1;33m(\u001b[0m\u001b[0mtasks\u001b[0m\u001b[1;33m)\u001b[0m\u001b[1;33m\u001b[0m\u001b[1;33m\u001b[0m\u001b[0m\n\u001b[0m\u001b[0;32m    760\u001b[0m                 \u001b[1;32mreturn\u001b[0m \u001b[1;32mTrue\u001b[0m\u001b[1;33m\u001b[0m\u001b[1;33m\u001b[0m\u001b[0m\n\u001b[0;32m    761\u001b[0m \u001b[1;33m\u001b[0m\u001b[0m\n",
      "\u001b[1;32m~\\AppData\\Local\\Programs\\Python\\Python36\\lib\\site-packages\\sklearn\\externals\\joblib\\parallel.py\u001b[0m in \u001b[0;36m_dispatch\u001b[1;34m(self, batch)\u001b[0m\n\u001b[0;32m    714\u001b[0m         \u001b[1;32mwith\u001b[0m \u001b[0mself\u001b[0m\u001b[1;33m.\u001b[0m\u001b[0m_lock\u001b[0m\u001b[1;33m:\u001b[0m\u001b[1;33m\u001b[0m\u001b[1;33m\u001b[0m\u001b[0m\n\u001b[0;32m    715\u001b[0m             \u001b[0mjob_idx\u001b[0m \u001b[1;33m=\u001b[0m \u001b[0mlen\u001b[0m\u001b[1;33m(\u001b[0m\u001b[0mself\u001b[0m\u001b[1;33m.\u001b[0m\u001b[0m_jobs\u001b[0m\u001b[1;33m)\u001b[0m\u001b[1;33m\u001b[0m\u001b[1;33m\u001b[0m\u001b[0m\n\u001b[1;32m--> 716\u001b[1;33m             \u001b[0mjob\u001b[0m \u001b[1;33m=\u001b[0m \u001b[0mself\u001b[0m\u001b[1;33m.\u001b[0m\u001b[0m_backend\u001b[0m\u001b[1;33m.\u001b[0m\u001b[0mapply_async\u001b[0m\u001b[1;33m(\u001b[0m\u001b[0mbatch\u001b[0m\u001b[1;33m,\u001b[0m \u001b[0mcallback\u001b[0m\u001b[1;33m=\u001b[0m\u001b[0mcb\u001b[0m\u001b[1;33m)\u001b[0m\u001b[1;33m\u001b[0m\u001b[1;33m\u001b[0m\u001b[0m\n\u001b[0m\u001b[0;32m    717\u001b[0m             \u001b[1;31m# A job can complete so quickly than its callback is\u001b[0m\u001b[1;33m\u001b[0m\u001b[1;33m\u001b[0m\u001b[1;33m\u001b[0m\u001b[0m\n\u001b[0;32m    718\u001b[0m             \u001b[1;31m# called before we get here, causing self._jobs to\u001b[0m\u001b[1;33m\u001b[0m\u001b[1;33m\u001b[0m\u001b[1;33m\u001b[0m\u001b[0m\n",
      "\u001b[1;32m~\\AppData\\Local\\Programs\\Python\\Python36\\lib\\site-packages\\sklearn\\externals\\joblib\\_parallel_backends.py\u001b[0m in \u001b[0;36mapply_async\u001b[1;34m(self, func, callback)\u001b[0m\n\u001b[0;32m    180\u001b[0m     \u001b[1;32mdef\u001b[0m \u001b[0mapply_async\u001b[0m\u001b[1;33m(\u001b[0m\u001b[0mself\u001b[0m\u001b[1;33m,\u001b[0m \u001b[0mfunc\u001b[0m\u001b[1;33m,\u001b[0m \u001b[0mcallback\u001b[0m\u001b[1;33m=\u001b[0m\u001b[1;32mNone\u001b[0m\u001b[1;33m)\u001b[0m\u001b[1;33m:\u001b[0m\u001b[1;33m\u001b[0m\u001b[1;33m\u001b[0m\u001b[0m\n\u001b[0;32m    181\u001b[0m         \u001b[1;34m\"\"\"Schedule a func to be run\"\"\"\u001b[0m\u001b[1;33m\u001b[0m\u001b[1;33m\u001b[0m\u001b[0m\n\u001b[1;32m--> 182\u001b[1;33m         \u001b[0mresult\u001b[0m \u001b[1;33m=\u001b[0m \u001b[0mImmediateResult\u001b[0m\u001b[1;33m(\u001b[0m\u001b[0mfunc\u001b[0m\u001b[1;33m)\u001b[0m\u001b[1;33m\u001b[0m\u001b[1;33m\u001b[0m\u001b[0m\n\u001b[0m\u001b[0;32m    183\u001b[0m         \u001b[1;32mif\u001b[0m \u001b[0mcallback\u001b[0m\u001b[1;33m:\u001b[0m\u001b[1;33m\u001b[0m\u001b[1;33m\u001b[0m\u001b[0m\n\u001b[0;32m    184\u001b[0m             \u001b[0mcallback\u001b[0m\u001b[1;33m(\u001b[0m\u001b[0mresult\u001b[0m\u001b[1;33m)\u001b[0m\u001b[1;33m\u001b[0m\u001b[1;33m\u001b[0m\u001b[0m\n",
      "\u001b[1;32m~\\AppData\\Local\\Programs\\Python\\Python36\\lib\\site-packages\\sklearn\\externals\\joblib\\_parallel_backends.py\u001b[0m in \u001b[0;36m__init__\u001b[1;34m(self, batch)\u001b[0m\n\u001b[0;32m    547\u001b[0m         \u001b[1;31m# Don't delay the application, to avoid keeping the input\u001b[0m\u001b[1;33m\u001b[0m\u001b[1;33m\u001b[0m\u001b[1;33m\u001b[0m\u001b[0m\n\u001b[0;32m    548\u001b[0m         \u001b[1;31m# arguments in memory\u001b[0m\u001b[1;33m\u001b[0m\u001b[1;33m\u001b[0m\u001b[1;33m\u001b[0m\u001b[0m\n\u001b[1;32m--> 549\u001b[1;33m         \u001b[0mself\u001b[0m\u001b[1;33m.\u001b[0m\u001b[0mresults\u001b[0m \u001b[1;33m=\u001b[0m \u001b[0mbatch\u001b[0m\u001b[1;33m(\u001b[0m\u001b[1;33m)\u001b[0m\u001b[1;33m\u001b[0m\u001b[1;33m\u001b[0m\u001b[0m\n\u001b[0m\u001b[0;32m    550\u001b[0m \u001b[1;33m\u001b[0m\u001b[0m\n\u001b[0;32m    551\u001b[0m     \u001b[1;32mdef\u001b[0m \u001b[0mget\u001b[0m\u001b[1;33m(\u001b[0m\u001b[0mself\u001b[0m\u001b[1;33m)\u001b[0m\u001b[1;33m:\u001b[0m\u001b[1;33m\u001b[0m\u001b[1;33m\u001b[0m\u001b[0m\n",
      "\u001b[1;32m~\\AppData\\Local\\Programs\\Python\\Python36\\lib\\site-packages\\sklearn\\externals\\joblib\\parallel.py\u001b[0m in \u001b[0;36m__call__\u001b[1;34m(self)\u001b[0m\n\u001b[0;32m    223\u001b[0m         \u001b[1;32mwith\u001b[0m \u001b[0mparallel_backend\u001b[0m\u001b[1;33m(\u001b[0m\u001b[0mself\u001b[0m\u001b[1;33m.\u001b[0m\u001b[0m_backend\u001b[0m\u001b[1;33m,\u001b[0m \u001b[0mn_jobs\u001b[0m\u001b[1;33m=\u001b[0m\u001b[0mself\u001b[0m\u001b[1;33m.\u001b[0m\u001b[0m_n_jobs\u001b[0m\u001b[1;33m)\u001b[0m\u001b[1;33m:\u001b[0m\u001b[1;33m\u001b[0m\u001b[1;33m\u001b[0m\u001b[0m\n\u001b[0;32m    224\u001b[0m             return [func(*args, **kwargs)\n\u001b[1;32m--> 225\u001b[1;33m                     for func, args, kwargs in self.items]\n\u001b[0m\u001b[0;32m    226\u001b[0m \u001b[1;33m\u001b[0m\u001b[0m\n\u001b[0;32m    227\u001b[0m     \u001b[1;32mdef\u001b[0m \u001b[0m__len__\u001b[0m\u001b[1;33m(\u001b[0m\u001b[0mself\u001b[0m\u001b[1;33m)\u001b[0m\u001b[1;33m:\u001b[0m\u001b[1;33m\u001b[0m\u001b[1;33m\u001b[0m\u001b[0m\n",
      "\u001b[1;32m~\\AppData\\Local\\Programs\\Python\\Python36\\lib\\site-packages\\sklearn\\externals\\joblib\\parallel.py\u001b[0m in \u001b[0;36m<listcomp>\u001b[1;34m(.0)\u001b[0m\n\u001b[0;32m    223\u001b[0m         \u001b[1;32mwith\u001b[0m \u001b[0mparallel_backend\u001b[0m\u001b[1;33m(\u001b[0m\u001b[0mself\u001b[0m\u001b[1;33m.\u001b[0m\u001b[0m_backend\u001b[0m\u001b[1;33m,\u001b[0m \u001b[0mn_jobs\u001b[0m\u001b[1;33m=\u001b[0m\u001b[0mself\u001b[0m\u001b[1;33m.\u001b[0m\u001b[0m_n_jobs\u001b[0m\u001b[1;33m)\u001b[0m\u001b[1;33m:\u001b[0m\u001b[1;33m\u001b[0m\u001b[1;33m\u001b[0m\u001b[0m\n\u001b[0;32m    224\u001b[0m             return [func(*args, **kwargs)\n\u001b[1;32m--> 225\u001b[1;33m                     for func, args, kwargs in self.items]\n\u001b[0m\u001b[0;32m    226\u001b[0m \u001b[1;33m\u001b[0m\u001b[0m\n\u001b[0;32m    227\u001b[0m     \u001b[1;32mdef\u001b[0m \u001b[0m__len__\u001b[0m\u001b[1;33m(\u001b[0m\u001b[0mself\u001b[0m\u001b[1;33m)\u001b[0m\u001b[1;33m:\u001b[0m\u001b[1;33m\u001b[0m\u001b[1;33m\u001b[0m\u001b[0m\n",
      "\u001b[1;32m~\\AppData\\Local\\Programs\\Python\\Python36\\lib\\site-packages\\sklearn\\model_selection\\_validation.py\u001b[0m in \u001b[0;36m_fit_and_score\u001b[1;34m(estimator, X, y, scorer, train, test, verbose, parameters, fit_params, return_train_score, return_parameters, return_n_test_samples, return_times, return_estimator, error_score)\u001b[0m\n\u001b[0;32m    512\u001b[0m     \u001b[0mtrain_scores\u001b[0m \u001b[1;33m=\u001b[0m \u001b[1;33m{\u001b[0m\u001b[1;33m}\u001b[0m\u001b[1;33m\u001b[0m\u001b[1;33m\u001b[0m\u001b[0m\n\u001b[0;32m    513\u001b[0m     \u001b[1;32mif\u001b[0m \u001b[0mparameters\u001b[0m \u001b[1;32mis\u001b[0m \u001b[1;32mnot\u001b[0m \u001b[1;32mNone\u001b[0m\u001b[1;33m:\u001b[0m\u001b[1;33m\u001b[0m\u001b[1;33m\u001b[0m\u001b[0m\n\u001b[1;32m--> 514\u001b[1;33m         \u001b[0mestimator\u001b[0m\u001b[1;33m.\u001b[0m\u001b[0mset_params\u001b[0m\u001b[1;33m(\u001b[0m\u001b[1;33m**\u001b[0m\u001b[0mparameters\u001b[0m\u001b[1;33m)\u001b[0m\u001b[1;33m\u001b[0m\u001b[1;33m\u001b[0m\u001b[0m\n\u001b[0m\u001b[0;32m    515\u001b[0m \u001b[1;33m\u001b[0m\u001b[0m\n\u001b[0;32m    516\u001b[0m     \u001b[0mstart_time\u001b[0m \u001b[1;33m=\u001b[0m \u001b[0mtime\u001b[0m\u001b[1;33m.\u001b[0m\u001b[0mtime\u001b[0m\u001b[1;33m(\u001b[0m\u001b[1;33m)\u001b[0m\u001b[1;33m\u001b[0m\u001b[1;33m\u001b[0m\u001b[0m\n",
      "\u001b[1;32m~\\AppData\\Local\\Programs\\Python\\Python36\\lib\\site-packages\\sklearn\\base.py\u001b[0m in \u001b[0;36mset_params\u001b[1;34m(self, **params)\u001b[0m\n\u001b[0;32m    211\u001b[0m                                  \u001b[1;34m'Check the list of available parameters '\u001b[0m\u001b[1;33m\u001b[0m\u001b[1;33m\u001b[0m\u001b[0m\n\u001b[0;32m    212\u001b[0m                                  \u001b[1;34m'with `estimator.get_params().keys()`.'\u001b[0m \u001b[1;33m%\u001b[0m\u001b[1;33m\u001b[0m\u001b[1;33m\u001b[0m\u001b[0m\n\u001b[1;32m--> 213\u001b[1;33m                                  (key, self))\n\u001b[0m\u001b[0;32m    214\u001b[0m \u001b[1;33m\u001b[0m\u001b[0m\n\u001b[0;32m    215\u001b[0m             \u001b[1;32mif\u001b[0m \u001b[0mdelim\u001b[0m\u001b[1;33m:\u001b[0m\u001b[1;33m\u001b[0m\u001b[1;33m\u001b[0m\u001b[0m\n",
      "\u001b[1;31mValueError\u001b[0m: Invalid parameter corr for estimator GaussianProcessRegressor(alpha=1e-10, copy_X_train=True, kernel=None,\n             n_restarts_optimizer=0, normalize_y=False,\n             optimizer='fmin_l_bfgs_b', random_state=None). Check the list of available parameters with `estimator.get_params().keys()`."
     ]
    }
   ],
   "source": [
    "from sklearn.model_selection import GridSearchCV\n",
    "tuned_parameters = [{'corr':['squared_exponential'], 'theta0': [0.01, 0.2, 0.8, 1.]},\n",
    "                    {'corr':['cubic'], 'theta0': [0.01, 0.2,  0.8, 1.]}]\n",
    "\n",
    "gp = GridSearchCV(GaussianProcessRegressor(), tuned_parameters, cv=5)\n",
    "\n",
    "gp.fit(X_train, y_train)\n",
    "print(gp.best_params_)\n"
   ]
  },
  {
   "cell_type": "code",
   "execution_count": 218,
   "metadata": {},
   "outputs": [
    {
     "data": {
      "text/plain": [
       "((0.04930232131242624, 0.03515126876198747),\n",
       " SpearmanrResult(correlation=0.04839265357575281, pvalue=0.03866854461326606))"
      ]
     },
     "execution_count": 218,
     "metadata": {},
     "output_type": "execute_result"
    }
   ],
   "source": [
    "from scipy.stats import pearsonr, spearmanr\n",
    "pearsonr(X.day_of_month, y), spearmanr(X.day_of_month, y)"
   ]
  },
  {
   "cell_type": "code",
   "execution_count": 123,
   "metadata": {},
   "outputs": [
    {
     "data": {
      "text/plain": [
       "2.5544712411608504e-07"
      ]
     },
     "execution_count": 123,
     "metadata": {},
     "output_type": "execute_result"
    }
   ],
   "source": [
    "import numpy as np\n",
    "rmse = np.sqrt(np.mean(np.square(y_pred-y)))\n",
    "rmse"
   ]
  },
  {
   "cell_type": "code",
   "execution_count": 12,
   "metadata": {},
   "outputs": [
    {
     "data": {
      "text/plain": [
       "<matplotlib.collections.PathCollection at 0x14d903b75f8>"
      ]
     },
     "execution_count": 12,
     "metadata": {},
     "output_type": "execute_result"
    },
    {
     "data": {
      "image/png": "[encoded data removed]",
      "text/plain": [
       "<Figure size 432x288 with 1 Axes>"
      ]
     },
     "metadata": {
      "needs_background": "light"
     },
     "output_type": "display_data"
    }
   ],
   "source": [
    "plt.scatter(df.Dep_Date, df.Bookings*df.Price)"
   ]
  },
  {
   "cell_type": "code",
   "execution_count": 13,
   "metadata": {},
   "outputs": [
    {
     "data": {
      "text/html": [
       "<div>\n",
       "<style scoped>\n",
       "    .dataframe tbody tr th:only-of-type {\n",
       "        vertical-align: middle;\n",
       "    }\n",
       "\n",
       "    .dataframe tbody tr th {\n",
       "        vertical-align: top;\n",
       "    }\n",
       "\n",
       "    .dataframe thead th {\n",
       "        text-align: right;\n",
       "    }\n",
       "</style>\n",
       "<table border=\"1\" class=\"dataframe\">\n",
       "  <thead>\n",
       "    <tr style=\"text-align: right;\">\n",
       "      <th></th>\n",
       "      <th>Dep_Date</th>\n",
       "      <th>Days_to_Depart</th>\n",
       "      <th>Price</th>\n",
       "      <th>Comptt_Price_Median</th>\n",
       "      <th>Bookings</th>\n",
       "    </tr>\n",
       "  </thead>\n",
       "  <tbody>\n",
       "    <tr>\n",
       "      <th>104033</th>\n",
       "      <td>2015-11-13</td>\n",
       "      <td>4</td>\n",
       "      <td>23831.0</td>\n",
       "      <td>23727.23</td>\n",
       "      <td>0.0</td>\n",
       "    </tr>\n",
       "    <tr>\n",
       "      <th>105859</th>\n",
       "      <td>2015-11-13</td>\n",
       "      <td>3</td>\n",
       "      <td>23839.0</td>\n",
       "      <td>23629.20</td>\n",
       "      <td>0.0</td>\n",
       "    </tr>\n",
       "    <tr>\n",
       "      <th>107685</th>\n",
       "      <td>2015-11-13</td>\n",
       "      <td>2</td>\n",
       "      <td>23855.0</td>\n",
       "      <td>23879.20</td>\n",
       "      <td>0.0</td>\n",
       "    </tr>\n",
       "    <tr>\n",
       "      <th>109511</th>\n",
       "      <td>2015-11-13</td>\n",
       "      <td>1</td>\n",
       "      <td>23865.0</td>\n",
       "      <td>23194.12</td>\n",
       "      <td>2.0</td>\n",
       "    </tr>\n",
       "  </tbody>\n",
       "</table>\n",
       "</div>"
      ],
      "text/plain": [
       "         Dep_Date  Days_to_Depart    Price  Comptt_Price_Median  Bookings\n",
       "104033 2015-11-13               4  23831.0             23727.23       0.0\n",
       "105859 2015-11-13               3  23839.0             23629.20       0.0\n",
       "107685 2015-11-13               2  23855.0             23879.20       0.0\n",
       "109511 2015-11-13               1  23865.0             23194.12       2.0"
      ]
     },
     "execution_count": 13,
     "metadata": {},
     "output_type": "execute_result"
    }
   ],
   "source": [
    "df[df.Price>22500]"
   ]
  },
  {
   "cell_type": "code",
   "execution_count": 54,
   "metadata": {},
   "outputs": [
    {
     "data": {
      "text/plain": [
       "Text(0, 0.5, '#Bookings')"
      ]
     },
     "execution_count": 54,
     "metadata": {},
     "output_type": "execute_result"
    },
    {
     "data": {
      "image/png": "[encoded data removed]",
      "text/plain": [
       "<Figure size 432x288 with 1 Axes>"
      ]
     },
     "metadata": {
      "needs_background": "light"
     },
     "output_type": "display_data"
    }
   ],
   "source": [
    "plt.scatter(df.Price, df.Bookings)\n",
    "plt.xlabel('Price')\n",
    "plt.ylabel('#Bookings')"
   ]
  },
  {
   "cell_type": "code",
   "execution_count": 17,
   "metadata": {},
   "outputs": [
    {
     "data": {
      "text/plain": [
       "<matplotlib.collections.PathCollection at 0x14d97576320>"
      ]
     },
     "execution_count": 17,
     "metadata": {},
     "output_type": "execute_result"
    },
    {
     "data": {
      "image/png": "[encoded data removed]",
      "text/plain": [
       "<Figure size 432x288 with 1 Axes>"
      ]
     },
     "metadata": {
      "needs_background": "light"
     },
     "output_type": "display_data"
    }
   ],
   "source": [
    "plt.scatter(df.Price-df.Comptt_Price_Median, df.Bookings)"
   ]
  },
  {
   "cell_type": "code",
   "execution_count": 19,
   "metadata": {},
   "outputs": [
    {
     "data": {
      "text/plain": [
       "Text(0, 0.5, 'Sales')"
      ]
     },
     "execution_count": 19,
     "metadata": {},
     "output_type": "execute_result"
    },
    {
     "data": {
      "image/png": "[encoded data removed]",
      "text/plain": [
       "<Figure size 432x288 with 1 Axes>"
      ]
     },
     "metadata": {
      "needs_background": "light"
     },
     "output_type": "display_data"
    }
   ],
   "source": [
    "plt.scatter(df.Price-df.Comptt_Price_Median, df.Bookings*df.Price)\n",
    "plt.xlabel('Increase in Price from Compt.')\n",
    "plt.ylabel('Sales')"
   ]
  },
  {
   "cell_type": "code",
   "execution_count": 20,
   "metadata": {},
   "outputs": [
    {
     "data": {
      "text/html": [
       "<div>\n",
       "<style scoped>\n",
       "    .dataframe tbody tr th:only-of-type {\n",
       "        vertical-align: middle;\n",
       "    }\n",
       "\n",
       "    .dataframe tbody tr th {\n",
       "        vertical-align: top;\n",
       "    }\n",
       "\n",
       "    .dataframe thead th {\n",
       "        text-align: right;\n",
       "    }\n",
       "</style>\n",
       "<table border=\"1\" class=\"dataframe\">\n",
       "  <thead>\n",
       "    <tr style=\"text-align: right;\">\n",
       "      <th></th>\n",
       "      <th>Dep_Date</th>\n",
       "      <th>Days_to_Depart</th>\n",
       "      <th>Price</th>\n",
       "      <th>Comptt_Price_Median</th>\n",
       "      <th>Bookings</th>\n",
       "    </tr>\n",
       "  </thead>\n",
       "  <tbody>\n",
       "    <tr>\n",
       "      <th>21863</th>\n",
       "      <td>2015-11-13</td>\n",
       "      <td>49</td>\n",
       "      <td>17424.0</td>\n",
       "      <td>18797.99</td>\n",
       "      <td>12.0</td>\n",
       "    </tr>\n",
       "    <tr>\n",
       "      <th>27341</th>\n",
       "      <td>2015-11-13</td>\n",
       "      <td>46</td>\n",
       "      <td>17621.0</td>\n",
       "      <td>18755.40</td>\n",
       "      <td>12.0</td>\n",
       "    </tr>\n",
       "  </tbody>\n",
       "</table>\n",
       "</div>"
      ],
      "text/plain": [
       "        Dep_Date  Days_to_Depart    Price  Comptt_Price_Median  Bookings\n",
       "21863 2015-11-13              49  17424.0             18797.99      12.0\n",
       "27341 2015-11-13              46  17621.0             18755.40      12.0"
      ]
     },
     "execution_count": 20,
     "metadata": {},
     "output_type": "execute_result"
    }
   ],
   "source": [
    "df[ df.Bookings*df.Price > 200000]"
   ]
  },
  {
   "cell_type": "code",
   "execution_count": 21,
   "metadata": {},
   "outputs": [
    {
     "data": {
      "text/plain": [
       "(4977.0, 23865.0)"
      ]
     },
     "execution_count": 21,
     "metadata": {},
     "output_type": "execute_result"
    }
   ],
   "source": [
    "min(df.Price), max(df.Price)"
   ]
  },
  {
   "cell_type": "code",
   "execution_count": 22,
   "metadata": {},
   "outputs": [
    {
     "data": {
      "text/html": [
       "<div>\n",
       "<style scoped>\n",
       "    .dataframe tbody tr th:only-of-type {\n",
       "        vertical-align: middle;\n",
       "    }\n",
       "\n",
       "    .dataframe tbody tr th {\n",
       "        vertical-align: top;\n",
       "    }\n",
       "\n",
       "    .dataframe thead th {\n",
       "        text-align: right;\n",
       "    }\n",
       "</style>\n",
       "<table border=\"1\" class=\"dataframe\">\n",
       "  <thead>\n",
       "    <tr style=\"text-align: right;\">\n",
       "      <th></th>\n",
       "      <th>Dep_Date</th>\n",
       "      <th>Days_to_Depart</th>\n",
       "      <th>Price</th>\n",
       "      <th>Comptt_Price_Median</th>\n",
       "      <th>Bookings</th>\n",
       "    </tr>\n",
       "  </thead>\n",
       "  <tbody>\n",
       "    <tr>\n",
       "      <th>109511</th>\n",
       "      <td>2015-11-13</td>\n",
       "      <td>1</td>\n",
       "      <td>23865.0</td>\n",
       "      <td>23194.12</td>\n",
       "      <td>2.0</td>\n",
       "    </tr>\n",
       "  </tbody>\n",
       "</table>\n",
       "</div>"
      ],
      "text/plain": [
       "         Dep_Date  Days_to_Depart    Price  Comptt_Price_Median  Bookings\n",
       "109511 2015-11-13               1  23865.0             23194.12       2.0"
      ]
     },
     "execution_count": 22,
     "metadata": {},
     "output_type": "execute_result"
    }
   ],
   "source": [
    "df[df.Price==max(df.Price)]"
   ]
  },
  {
   "cell_type": "code",
   "execution_count": 23,
   "metadata": {},
   "outputs": [
    {
     "data": {
      "text/plain": [
       "(1826, 5)"
      ]
     },
     "execution_count": 23,
     "metadata": {},
     "output_type": "execute_result"
    }
   ],
   "source": [
    "df[df.Days_to_Depart==60].shape"
   ]
  },
  {
   "cell_type": "code",
   "execution_count": 24,
   "metadata": {},
   "outputs": [
    {
     "data": {
      "text/plain": [
       "(4977.0, 17153.0)"
      ]
     },
     "execution_count": 24,
     "metadata": {},
     "output_type": "execute_result"
    }
   ],
   "source": [
    "min(df[df.Days_to_Depart==60].Price), max(df[df.Days_to_Depart==60].Price)"
   ]
  },
  {
   "cell_type": "code",
   "execution_count": 25,
   "metadata": {},
   "outputs": [
    {
     "data": {
      "text/html": [
       "<div>\n",
       "<style scoped>\n",
       "    .dataframe tbody tr th:only-of-type {\n",
       "        vertical-align: middle;\n",
       "    }\n",
       "\n",
       "    .dataframe tbody tr th {\n",
       "        vertical-align: top;\n",
       "    }\n",
       "\n",
       "    .dataframe thead th {\n",
       "        text-align: right;\n",
       "    }\n",
       "</style>\n",
       "<table border=\"1\" class=\"dataframe\">\n",
       "  <thead>\n",
       "    <tr style=\"text-align: right;\">\n",
       "      <th></th>\n",
       "      <th>Dep_Date</th>\n",
       "      <th>Days_to_Depart</th>\n",
       "      <th>Price</th>\n",
       "      <th>Comptt_Price_Median</th>\n",
       "      <th>Bookings</th>\n",
       "    </tr>\n",
       "  </thead>\n",
       "  <tbody>\n",
       "    <tr>\n",
       "      <th>1777</th>\n",
       "      <td>2015-11-13</td>\n",
       "      <td>60</td>\n",
       "      <td>17153.0</td>\n",
       "      <td>17374.45</td>\n",
       "      <td>7.0</td>\n",
       "    </tr>\n",
       "  </tbody>\n",
       "</table>\n",
       "</div>"
      ],
      "text/plain": [
       "       Dep_Date  Days_to_Depart    Price  Comptt_Price_Median  Bookings\n",
       "1777 2015-11-13              60  17153.0             17374.45       7.0"
      ]
     },
     "execution_count": 25,
     "metadata": {},
     "output_type": "execute_result"
    }
   ],
   "source": [
    "df[df.Price==max(df[df.Days_to_Depart==60].Price)]"
   ]
  },
  {
   "cell_type": "code",
   "execution_count": 26,
   "metadata": {},
   "outputs": [
    {
     "data": {
      "text/plain": [
       "4187.19"
      ]
     },
     "execution_count": 26,
     "metadata": {},
     "output_type": "execute_result"
    }
   ],
   "source": [
    "min(df.Comptt_Price_Median)"
   ]
  },
  {
   "cell_type": "code",
   "execution_count": 43,
   "metadata": {},
   "outputs": [],
   "source": [
    "df['month'] = df.Dep_Date.apply(lambda x: x.month)\n",
    "df['weekday'] = df.Dep_Date.apply(lambda x: x.weekday())"
   ]
  },
  {
   "cell_type": "code",
   "execution_count": 53,
   "metadata": {},
   "outputs": [
    {
     "data": {
      "text/plain": [
       "Text(0, 0.5, 'Price')"
      ]
     },
     "execution_count": 53,
     "metadata": {},
     "output_type": "execute_result"
    },
    {
     "data": {
      "image/png": "[encoded data removed]",
      "text/plain": [
       "<Figure size 432x288 with 1 Axes>"
      ]
     },
     "metadata": {
      "needs_background": "light"
     },
     "output_type": "display_data"
    }
   ],
   "source": [
    "plt.plot(df.groupby('month')['Price'].mean(), marker = 'o')\n",
    "plt.xlabel('Month')\n",
    "plt.ylabel('Price')"
   ]
  },
  {
   "cell_type": "code",
   "execution_count": 48,
   "metadata": {},
   "outputs": [
    {
     "data": {
      "text/plain": [
       "Text(0, 0.5, 'Avg. Price')"
      ]
     },
     "execution_count": 48,
     "metadata": {},
     "output_type": "execute_result"
    },
    {
     "data": {
      "image/png": "[encoded data removed]",
      "text/plain": [
       "<Figure size 432x288 with 1 Axes>"
      ]
     },
     "metadata": {
      "needs_background": "light"
     },
     "output_type": "display_data"
    }
   ],
   "source": [
    "plt.plot([calendar.day_name[x]for x in range(7)], df.groupby('weekday')['Price'].mean(), marker = 'o')\n",
    "plt.xlabel('day of week')\n",
    "plt.ylabel('Avg. Price')"
   ]
  },
  {
   "cell_type": "code",
   "execution_count": 49,
   "metadata": {},
   "outputs": [
    {
     "data": {
      "text/plain": [
       "Text(0, 0.5, 'Median Price')"
      ]
     },
     "execution_count": 49,
     "metadata": {},
     "output_type": "execute_result"
    },
    {
     "data": {
      "image/png": "[encoded data removed]",
      "text/plain": [
       "<Figure size 432x288 with 1 Axes>"
      ]
     },
     "metadata": {
      "needs_background": "light"
     },
     "output_type": "display_data"
    }
   ],
   "source": [
    "plt.plot([calendar.day_name[x]for x in range(7)], df.groupby('weekday')['Price'].median(), marker = 'o')\n",
    "plt.xlabel('day of week')\n",
    "plt.ylabel('Median Price')"
   ]
  },
  {
   "cell_type": "code",
   "execution_count": 51,
   "metadata": {},
   "outputs": [
    {
     "data": {
      "text/plain": [
       "Text(0, 0.5, 'Total Bookings')"
      ]
     },
     "execution_count": 51,
     "metadata": {},
     "output_type": "execute_result"
    },
    {
     "data": {
      "image/png": "[encoded data removed]",
      "text/plain": [
       "<Figure size 432x288 with 1 Axes>"
      ]
     },
     "metadata": {
      "needs_background": "light"
     },
     "output_type": "display_data"
    }
   ],
   "source": [
    "plt.plot([calendar.day_name[x]for x in range(7)], df.groupby('weekday')['Bookings'].sum(), marker = 'o')\n",
    "plt.xlabel('day of week')\n",
    "plt.ylabel('Total Bookings')"
   ]
  },
  {
   "cell_type": "code",
   "execution_count": 73,
   "metadata": {},
   "outputs": [],
   "source": [
    "df['Sales'] = df['Bookings']*df['Price']"
   ]
  },
  {
   "cell_type": "code",
   "execution_count": 74,
   "metadata": {},
   "outputs": [
    {
     "data": {
      "text/plain": [
       "((54623, 8), (2, 8), (54623, 8), (109560, 8))"
      ]
     },
     "execution_count": 74,
     "metadata": {},
     "output_type": "execute_result"
    }
   ],
   "source": [
    "higher_priced = df[df.Price > df.Comptt_Price_Median]\n",
    "lower_priced = df[df.Price > df.Comptt_Price_Median]\n",
    "equal_priced = df[df.Price == df.Comptt_Price_Median]\n",
    "lower_priced.shape, equal_priced.shape, higher_priced.shape, df.shape"
   ]
  },
  {
   "cell_type": "code",
   "execution_count": 59,
   "metadata": {},
   "outputs": [
    {
     "data": {
      "text/html": [
       "<div>\n",
       "<style scoped>\n",
       "    .dataframe tbody tr th:only-of-type {\n",
       "        vertical-align: middle;\n",
       "    }\n",
       "\n",
       "    .dataframe tbody tr th {\n",
       "        vertical-align: top;\n",
       "    }\n",
       "\n",
       "    .dataframe thead th {\n",
       "        text-align: right;\n",
       "    }\n",
       "</style>\n",
       "<table border=\"1\" class=\"dataframe\">\n",
       "  <thead>\n",
       "    <tr style=\"text-align: right;\">\n",
       "      <th></th>\n",
       "      <th>Dep_Date</th>\n",
       "      <th>Days_to_Depart</th>\n",
       "      <th>Price</th>\n",
       "      <th>Comptt_Price_Median</th>\n",
       "      <th>Bookings</th>\n",
       "      <th>month</th>\n",
       "      <th>weekday</th>\n",
       "    </tr>\n",
       "  </thead>\n",
       "  <tbody>\n",
       "    <tr>\n",
       "      <th>22755</th>\n",
       "      <td>2013-04-23</td>\n",
       "      <td>48</td>\n",
       "      <td>5736.0</td>\n",
       "      <td>5736.0</td>\n",
       "      <td>4.0</td>\n",
       "      <td>4</td>\n",
       "      <td>1</td>\n",
       "    </tr>\n",
       "    <tr>\n",
       "      <th>83885</th>\n",
       "      <td>2015-09-12</td>\n",
       "      <td>15</td>\n",
       "      <td>7601.0</td>\n",
       "      <td>7601.0</td>\n",
       "      <td>4.0</td>\n",
       "      <td>9</td>\n",
       "      <td>5</td>\n",
       "    </tr>\n",
       "  </tbody>\n",
       "</table>\n",
       "</div>"
      ],
      "text/plain": [
       "        Dep_Date  Days_to_Depart   Price  Comptt_Price_Median  Bookings  \\\n",
       "22755 2013-04-23              48  5736.0               5736.0       4.0   \n",
       "83885 2015-09-12              15  7601.0               7601.0       4.0   \n",
       "\n",
       "       month  weekday  \n",
       "22755      4        1  \n",
       "83885      9        5  "
      ]
     },
     "execution_count": 59,
     "metadata": {},
     "output_type": "execute_result"
    }
   ],
   "source": [
    "equal_priced"
   ]
  },
  {
   "cell_type": "code",
   "execution_count": 69,
   "metadata": {},
   "outputs": [
    {
     "data": {
      "text/plain": [
       "Text(0, 0.5, 'Avg Price')"
      ]
     },
     "execution_count": 69,
     "metadata": {},
     "output_type": "execute_result"
    },
    {
     "data": {
      "image/png": "[encoded data removed]",
      "text/plain": [
       "<Figure size 432x288 with 1 Axes>"
      ]
     },
     "metadata": {
      "needs_background": "light"
     },
     "output_type": "display_data"
    }
   ],
   "source": [
    "plt.plot(higher_priced.groupby('Bookings')['Price'].mean())\n",
    "plt.xlabel('#Bookings')\n",
    "plt.ylabel('Avg Price')"
   ]
  },
  {
   "cell_type": "code",
   "execution_count": 71,
   "metadata": {},
   "outputs": [
    {
     "data": {
      "text/plain": [
       "Text(0, 0.5, 'Avg Price')"
      ]
     },
     "execution_count": 71,
     "metadata": {},
     "output_type": "execute_result"
    },
    {
     "data": {
      "image/png": "[encoded data removed]",
      "text/plain": [
       "<Figure size 432x288 with 1 Axes>"
      ]
     },
     "metadata": {
      "needs_background": "light"
     },
     "output_type": "display_data"
    }
   ],
   "source": [
    "plt.plot(lower_priced.groupby('Bookings')['Price'].mean())\n",
    "plt.xlabel('#Bookings')\n",
    "plt.ylabel('Avg Price')"
   ]
  },
  {
   "cell_type": "code",
   "execution_count": 72,
   "metadata": {},
   "outputs": [
    {
     "data": {
      "text/html": [
       "<div>\n",
       "<style scoped>\n",
       "    .dataframe tbody tr th:only-of-type {\n",
       "        vertical-align: middle;\n",
       "    }\n",
       "\n",
       "    .dataframe tbody tr th {\n",
       "        vertical-align: top;\n",
       "    }\n",
       "\n",
       "    .dataframe thead th {\n",
       "        text-align: right;\n",
       "    }\n",
       "</style>\n",
       "<table border=\"1\" class=\"dataframe\">\n",
       "  <thead>\n",
       "    <tr style=\"text-align: right;\">\n",
       "      <th></th>\n",
       "      <th>Dep_Date</th>\n",
       "      <th>Days_to_Depart</th>\n",
       "      <th>Price</th>\n",
       "      <th>Comptt_Price_Median</th>\n",
       "      <th>Bookings</th>\n",
       "      <th>month</th>\n",
       "      <th>weekday</th>\n",
       "    </tr>\n",
       "  </thead>\n",
       "  <tbody>\n",
       "    <tr>\n",
       "      <th>1996</th>\n",
       "      <td>2011-06-20</td>\n",
       "      <td>59</td>\n",
       "      <td>5164.0</td>\n",
       "      <td>5292.24</td>\n",
       "      <td>15.0</td>\n",
       "      <td>6</td>\n",
       "      <td>0</td>\n",
       "    </tr>\n",
       "    <tr>\n",
       "      <th>2911</th>\n",
       "      <td>2013-12-21</td>\n",
       "      <td>59</td>\n",
       "      <td>5845.0</td>\n",
       "      <td>5381.54</td>\n",
       "      <td>15.0</td>\n",
       "      <td>12</td>\n",
       "      <td>5</td>\n",
       "    </tr>\n",
       "    <tr>\n",
       "      <th>3268</th>\n",
       "      <td>2014-12-13</td>\n",
       "      <td>59</td>\n",
       "      <td>6081.0</td>\n",
       "      <td>6312.22</td>\n",
       "      <td>15.0</td>\n",
       "      <td>12</td>\n",
       "      <td>5</td>\n",
       "    </tr>\n",
       "    <tr>\n",
       "      <th>8936</th>\n",
       "      <td>2015-06-21</td>\n",
       "      <td>56</td>\n",
       "      <td>6265.0</td>\n",
       "      <td>6639.86</td>\n",
       "      <td>15.0</td>\n",
       "      <td>6</td>\n",
       "      <td>6</td>\n",
       "    </tr>\n",
       "    <tr>\n",
       "      <th>17654</th>\n",
       "      <td>2014-05-05</td>\n",
       "      <td>51</td>\n",
       "      <td>5974.0</td>\n",
       "      <td>5870.13</td>\n",
       "      <td>15.0</td>\n",
       "      <td>5</td>\n",
       "      <td>0</td>\n",
       "    </tr>\n",
       "  </tbody>\n",
       "</table>\n",
       "</div>"
      ],
      "text/plain": [
       "        Dep_Date  Days_to_Depart   Price  Comptt_Price_Median  Bookings  \\\n",
       "1996  2011-06-20              59  5164.0              5292.24      15.0   \n",
       "2911  2013-12-21              59  5845.0              5381.54      15.0   \n",
       "3268  2014-12-13              59  6081.0              6312.22      15.0   \n",
       "8936  2015-06-21              56  6265.0              6639.86      15.0   \n",
       "17654 2014-05-05              51  5974.0              5870.13      15.0   \n",
       "\n",
       "       month  weekday  \n",
       "1996       6        0  \n",
       "2911      12        5  \n",
       "3268      12        5  \n",
       "8936       6        6  \n",
       "17654      5        0  "
      ]
     },
     "execution_count": 72,
     "metadata": {},
     "output_type": "execute_result"
    }
   ],
   "source": [
    "df[df.Bookings>14]"
   ]
  },
  {
   "cell_type": "code",
   "execution_count": 75,
   "metadata": {},
   "outputs": [
    {
     "data": {
      "text/plain": [
       "Text(0, 0.5, 'Avg Price')"
      ]
     },
     "execution_count": 75,
     "metadata": {},
     "output_type": "execute_result"
    },
    {
     "data": {
      "image/png": "[encoded data removed]",
      "text/plain": [
       "<Figure size 432x288 with 1 Axes>"
      ]
     },
     "metadata": {
      "needs_background": "light"
     },
     "output_type": "display_data"
    }
   ],
   "source": [
    "plt.plot(lower_priced.groupby('Bookings')['Sales'].mean())\n",
    "plt.xlabel('#Bookings')\n",
    "plt.ylabel('Avg Sales')"
   ]
  },
  {
   "cell_type": "code",
   "execution_count": 79,
   "metadata": {},
   "outputs": [
    {
     "data": {
      "text/plain": [
       "Text(0, 0.5, 'Sales')"
      ]
     },
     "execution_count": 79,
     "metadata": {},
     "output_type": "execute_result"
    },
    {
     "data": {
      "image/png": "[encoded data removed]",
      "text/plain": [
       "<Figure size 432x288 with 1 Axes>"
      ]
     },
     "metadata": {
      "needs_background": "light"
     },
     "output_type": "display_data"
    }
   ],
   "source": [
    "plt.scatter(lower_priced['Price'], lower_priced['Sales'])\n",
    "plt.xlabel('Price')\n",
    "plt.ylabel('Sales')"
   ]
  },
  {
   "cell_type": "code",
   "execution_count": 78,
   "metadata": {},
   "outputs": [
    {
     "data": {
      "text/html": [
       "<div>\n",
       "<style scoped>\n",
       "    .dataframe tbody tr th:only-of-type {\n",
       "        vertical-align: middle;\n",
       "    }\n",
       "\n",
       "    .dataframe tbody tr th {\n",
       "        vertical-align: top;\n",
       "    }\n",
       "\n",
       "    .dataframe thead th {\n",
       "        text-align: right;\n",
       "    }\n",
       "</style>\n",
       "<table border=\"1\" class=\"dataframe\">\n",
       "  <thead>\n",
       "    <tr style=\"text-align: right;\">\n",
       "      <th></th>\n",
       "      <th>Bookings</th>\n",
       "      <th>Sales</th>\n",
       "    </tr>\n",
       "  </thead>\n",
       "  <tbody>\n",
       "    <tr>\n",
       "      <th>0</th>\n",
       "      <td>0.0</td>\n",
       "      <td>0.000000</td>\n",
       "    </tr>\n",
       "    <tr>\n",
       "      <th>1</th>\n",
       "      <td>1.0</td>\n",
       "      <td>7098.481361</td>\n",
       "    </tr>\n",
       "    <tr>\n",
       "      <th>2</th>\n",
       "      <td>2.0</td>\n",
       "      <td>13826.019077</td>\n",
       "    </tr>\n",
       "    <tr>\n",
       "      <th>3</th>\n",
       "      <td>3.0</td>\n",
       "      <td>20060.343973</td>\n",
       "    </tr>\n",
       "    <tr>\n",
       "      <th>4</th>\n",
       "      <td>4.0</td>\n",
       "      <td>25740.203634</td>\n",
       "    </tr>\n",
       "    <tr>\n",
       "      <th>5</th>\n",
       "      <td>5.0</td>\n",
       "      <td>31295.148904</td>\n",
       "    </tr>\n",
       "    <tr>\n",
       "      <th>6</th>\n",
       "      <td>6.0</td>\n",
       "      <td>36872.096517</td>\n",
       "    </tr>\n",
       "    <tr>\n",
       "      <th>7</th>\n",
       "      <td>7.0</td>\n",
       "      <td>42497.318606</td>\n",
       "    </tr>\n",
       "    <tr>\n",
       "      <th>8</th>\n",
       "      <td>8.0</td>\n",
       "      <td>48010.989723</td>\n",
       "    </tr>\n",
       "    <tr>\n",
       "      <th>9</th>\n",
       "      <td>9.0</td>\n",
       "      <td>53421.400508</td>\n",
       "    </tr>\n",
       "    <tr>\n",
       "      <th>10</th>\n",
       "      <td>10.0</td>\n",
       "      <td>59275.875371</td>\n",
       "    </tr>\n",
       "    <tr>\n",
       "      <th>11</th>\n",
       "      <td>11.0</td>\n",
       "      <td>65080.518779</td>\n",
       "    </tr>\n",
       "    <tr>\n",
       "      <th>12</th>\n",
       "      <td>12.0</td>\n",
       "      <td>69472.240602</td>\n",
       "    </tr>\n",
       "    <tr>\n",
       "      <th>13</th>\n",
       "      <td>13.0</td>\n",
       "      <td>76156.853659</td>\n",
       "    </tr>\n",
       "    <tr>\n",
       "      <th>14</th>\n",
       "      <td>14.0</td>\n",
       "      <td>76717.454545</td>\n",
       "    </tr>\n",
       "    <tr>\n",
       "      <th>15</th>\n",
       "      <td>15.0</td>\n",
       "      <td>88642.500000</td>\n",
       "    </tr>\n",
       "  </tbody>\n",
       "</table>\n",
       "</div>"
      ],
      "text/plain": [
       "    Bookings         Sales\n",
       "0        0.0      0.000000\n",
       "1        1.0   7098.481361\n",
       "2        2.0  13826.019077\n",
       "3        3.0  20060.343973\n",
       "4        4.0  25740.203634\n",
       "5        5.0  31295.148904\n",
       "6        6.0  36872.096517\n",
       "7        7.0  42497.318606\n",
       "8        8.0  48010.989723\n",
       "9        9.0  53421.400508\n",
       "10      10.0  59275.875371\n",
       "11      11.0  65080.518779\n",
       "12      12.0  69472.240602\n",
       "13      13.0  76156.853659\n",
       "14      14.0  76717.454545\n",
       "15      15.0  88642.500000"
      ]
     },
     "execution_count": 78,
     "metadata": {},
     "output_type": "execute_result"
    }
   ],
   "source": [
    "lower_priced.groupby('Bookings')['Sales'].mean().reset_index()"
   ]
  },
  {
   "cell_type": "code",
   "execution_count": 80,
   "metadata": {},
   "outputs": [
    {
     "data": {
      "text/plain": [
       "<matplotlib.collections.PathCollection at 0x14d9f320668>"
      ]
     },
     "execution_count": 80,
     "metadata": {},
     "output_type": "execute_result"
    },
    {
     "data": {
      "image/png": "[encoded data removed]",
      "text/plain": [
       "<Figure size 432x288 with 1 Axes>"
      ]
     },
     "metadata": {
      "needs_background": "light"
     },
     "output_type": "display_data"
    }
   ],
   "source": [
    "plt.scatter(df.Days_to_Depart, df.Price)"
   ]
  },
  {
   "cell_type": "code",
   "execution_count": 82,
   "metadata": {},
   "outputs": [
    {
     "data": {
      "text/html": [
       "<div>\n",
       "<style scoped>\n",
       "    .dataframe tbody tr th:only-of-type {\n",
       "        vertical-align: middle;\n",
       "    }\n",
       "\n",
       "    .dataframe tbody tr th {\n",
       "        vertical-align: top;\n",
       "    }\n",
       "\n",
       "    .dataframe thead th {\n",
       "        text-align: right;\n",
       "    }\n",
       "</style>\n",
       "<table border=\"1\" class=\"dataframe\">\n",
       "  <thead>\n",
       "    <tr style=\"text-align: right;\">\n",
       "      <th></th>\n",
       "      <th>Dep_Date</th>\n",
       "      <th>Days_to_Depart</th>\n",
       "      <th>Price</th>\n",
       "      <th>Comptt_Price_Median</th>\n",
       "      <th>Bookings</th>\n",
       "      <th>month</th>\n",
       "      <th>weekday</th>\n",
       "      <th>Sales</th>\n",
       "    </tr>\n",
       "  </thead>\n",
       "  <tbody>\n",
       "    <tr>\n",
       "      <th>107742</th>\n",
       "      <td>2011-01-09</td>\n",
       "      <td>1</td>\n",
       "      <td>6956.0</td>\n",
       "      <td>7149.48</td>\n",
       "      <td>1.0</td>\n",
       "      <td>1</td>\n",
       "      <td>6</td>\n",
       "      <td>6956.0</td>\n",
       "    </tr>\n",
       "    <tr>\n",
       "      <th>107753</th>\n",
       "      <td>2011-01-20</td>\n",
       "      <td>1</td>\n",
       "      <td>6978.0</td>\n",
       "      <td>6467.30</td>\n",
       "      <td>2.0</td>\n",
       "      <td>1</td>\n",
       "      <td>3</td>\n",
       "      <td>13956.0</td>\n",
       "    </tr>\n",
       "    <tr>\n",
       "      <th>107737</th>\n",
       "      <td>2011-01-04</td>\n",
       "      <td>1</td>\n",
       "      <td>6987.0</td>\n",
       "      <td>6764.26</td>\n",
       "      <td>1.0</td>\n",
       "      <td>1</td>\n",
       "      <td>1</td>\n",
       "      <td>6987.0</td>\n",
       "    </tr>\n",
       "    <tr>\n",
       "      <th>107740</th>\n",
       "      <td>2011-01-07</td>\n",
       "      <td>1</td>\n",
       "      <td>6987.0</td>\n",
       "      <td>7498.09</td>\n",
       "      <td>0.0</td>\n",
       "      <td>1</td>\n",
       "      <td>4</td>\n",
       "      <td>0.0</td>\n",
       "    </tr>\n",
       "    <tr>\n",
       "      <th>107762</th>\n",
       "      <td>2011-01-29</td>\n",
       "      <td>1</td>\n",
       "      <td>6995.0</td>\n",
       "      <td>6739.83</td>\n",
       "      <td>0.0</td>\n",
       "      <td>1</td>\n",
       "      <td>5</td>\n",
       "      <td>0.0</td>\n",
       "    </tr>\n",
       "    <tr>\n",
       "      <th>107741</th>\n",
       "      <td>2011-01-08</td>\n",
       "      <td>1</td>\n",
       "      <td>6997.0</td>\n",
       "      <td>7035.37</td>\n",
       "      <td>0.0</td>\n",
       "      <td>1</td>\n",
       "      <td>5</td>\n",
       "      <td>0.0</td>\n",
       "    </tr>\n",
       "    <tr>\n",
       "      <th>107738</th>\n",
       "      <td>2011-01-05</td>\n",
       "      <td>1</td>\n",
       "      <td>6999.0</td>\n",
       "      <td>6963.67</td>\n",
       "      <td>0.0</td>\n",
       "      <td>1</td>\n",
       "      <td>2</td>\n",
       "      <td>0.0</td>\n",
       "    </tr>\n",
       "    <tr>\n",
       "      <th>107748</th>\n",
       "      <td>2011-01-15</td>\n",
       "      <td>1</td>\n",
       "      <td>7001.0</td>\n",
       "      <td>7687.86</td>\n",
       "      <td>0.0</td>\n",
       "      <td>1</td>\n",
       "      <td>5</td>\n",
       "      <td>0.0</td>\n",
       "    </tr>\n",
       "    <tr>\n",
       "      <th>107787</th>\n",
       "      <td>2011-02-23</td>\n",
       "      <td>1</td>\n",
       "      <td>7002.0</td>\n",
       "      <td>7502.28</td>\n",
       "      <td>0.0</td>\n",
       "      <td>2</td>\n",
       "      <td>2</td>\n",
       "      <td>0.0</td>\n",
       "    </tr>\n",
       "    <tr>\n",
       "      <th>107754</th>\n",
       "      <td>2011-01-21</td>\n",
       "      <td>1</td>\n",
       "      <td>7004.0</td>\n",
       "      <td>7634.06</td>\n",
       "      <td>0.0</td>\n",
       "      <td>1</td>\n",
       "      <td>4</td>\n",
       "      <td>0.0</td>\n",
       "    </tr>\n",
       "    <tr>\n",
       "      <th>107744</th>\n",
       "      <td>2011-01-11</td>\n",
       "      <td>1</td>\n",
       "      <td>7004.0</td>\n",
       "      <td>7117.23</td>\n",
       "      <td>0.0</td>\n",
       "      <td>1</td>\n",
       "      <td>1</td>\n",
       "      <td>0.0</td>\n",
       "    </tr>\n",
       "    <tr>\n",
       "      <th>107773</th>\n",
       "      <td>2011-02-09</td>\n",
       "      <td>1</td>\n",
       "      <td>7005.0</td>\n",
       "      <td>7370.09</td>\n",
       "      <td>0.0</td>\n",
       "      <td>2</td>\n",
       "      <td>2</td>\n",
       "      <td>0.0</td>\n",
       "    </tr>\n",
       "    <tr>\n",
       "      <th>107757</th>\n",
       "      <td>2011-01-24</td>\n",
       "      <td>1</td>\n",
       "      <td>7005.0</td>\n",
       "      <td>7317.69</td>\n",
       "      <td>0.0</td>\n",
       "      <td>1</td>\n",
       "      <td>0</td>\n",
       "      <td>0.0</td>\n",
       "    </tr>\n",
       "    <tr>\n",
       "      <th>107735</th>\n",
       "      <td>2011-01-02</td>\n",
       "      <td>1</td>\n",
       "      <td>7005.0</td>\n",
       "      <td>6526.02</td>\n",
       "      <td>0.0</td>\n",
       "      <td>1</td>\n",
       "      <td>6</td>\n",
       "      <td>0.0</td>\n",
       "    </tr>\n",
       "    <tr>\n",
       "      <th>107749</th>\n",
       "      <td>2011-01-16</td>\n",
       "      <td>1</td>\n",
       "      <td>7006.0</td>\n",
       "      <td>7001.42</td>\n",
       "      <td>0.0</td>\n",
       "      <td>1</td>\n",
       "      <td>6</td>\n",
       "      <td>0.0</td>\n",
       "    </tr>\n",
       "    <tr>\n",
       "      <th>107739</th>\n",
       "      <td>2011-01-06</td>\n",
       "      <td>1</td>\n",
       "      <td>7006.0</td>\n",
       "      <td>6976.05</td>\n",
       "      <td>0.0</td>\n",
       "      <td>1</td>\n",
       "      <td>3</td>\n",
       "      <td>0.0</td>\n",
       "    </tr>\n",
       "    <tr>\n",
       "      <th>107745</th>\n",
       "      <td>2011-01-12</td>\n",
       "      <td>1</td>\n",
       "      <td>7008.0</td>\n",
       "      <td>7115.60</td>\n",
       "      <td>0.0</td>\n",
       "      <td>1</td>\n",
       "      <td>2</td>\n",
       "      <td>0.0</td>\n",
       "    </tr>\n",
       "    <tr>\n",
       "      <th>107750</th>\n",
       "      <td>2011-01-17</td>\n",
       "      <td>1</td>\n",
       "      <td>7008.0</td>\n",
       "      <td>6962.77</td>\n",
       "      <td>0.0</td>\n",
       "      <td>1</td>\n",
       "      <td>0</td>\n",
       "      <td>0.0</td>\n",
       "    </tr>\n",
       "    <tr>\n",
       "      <th>107779</th>\n",
       "      <td>2011-02-15</td>\n",
       "      <td>1</td>\n",
       "      <td>7008.0</td>\n",
       "      <td>6554.98</td>\n",
       "      <td>0.0</td>\n",
       "      <td>2</td>\n",
       "      <td>1</td>\n",
       "      <td>0.0</td>\n",
       "    </tr>\n",
       "    <tr>\n",
       "      <th>107756</th>\n",
       "      <td>2011-01-23</td>\n",
       "      <td>1</td>\n",
       "      <td>7014.0</td>\n",
       "      <td>7222.10</td>\n",
       "      <td>0.0</td>\n",
       "      <td>1</td>\n",
       "      <td>6</td>\n",
       "      <td>0.0</td>\n",
       "    </tr>\n",
       "    <tr>\n",
       "      <th>107767</th>\n",
       "      <td>2011-02-03</td>\n",
       "      <td>1</td>\n",
       "      <td>7014.0</td>\n",
       "      <td>6949.18</td>\n",
       "      <td>2.0</td>\n",
       "      <td>2</td>\n",
       "      <td>3</td>\n",
       "      <td>14028.0</td>\n",
       "    </tr>\n",
       "    <tr>\n",
       "      <th>107765</th>\n",
       "      <td>2011-02-01</td>\n",
       "      <td>1</td>\n",
       "      <td>7020.0</td>\n",
       "      <td>7592.64</td>\n",
       "      <td>2.0</td>\n",
       "      <td>2</td>\n",
       "      <td>1</td>\n",
       "      <td>14040.0</td>\n",
       "    </tr>\n",
       "    <tr>\n",
       "      <th>107747</th>\n",
       "      <td>2011-01-14</td>\n",
       "      <td>1</td>\n",
       "      <td>7022.0</td>\n",
       "      <td>6964.68</td>\n",
       "      <td>0.0</td>\n",
       "      <td>1</td>\n",
       "      <td>4</td>\n",
       "      <td>0.0</td>\n",
       "    </tr>\n",
       "    <tr>\n",
       "      <th>107778</th>\n",
       "      <td>2011-02-14</td>\n",
       "      <td>1</td>\n",
       "      <td>7023.0</td>\n",
       "      <td>7274.88</td>\n",
       "      <td>0.0</td>\n",
       "      <td>2</td>\n",
       "      <td>0</td>\n",
       "      <td>0.0</td>\n",
       "    </tr>\n",
       "    <tr>\n",
       "      <th>107794</th>\n",
       "      <td>2011-03-02</td>\n",
       "      <td>1</td>\n",
       "      <td>7025.0</td>\n",
       "      <td>6830.77</td>\n",
       "      <td>0.0</td>\n",
       "      <td>3</td>\n",
       "      <td>2</td>\n",
       "      <td>0.0</td>\n",
       "    </tr>\n",
       "    <tr>\n",
       "      <th>107743</th>\n",
       "      <td>2011-01-10</td>\n",
       "      <td>1</td>\n",
       "      <td>7028.0</td>\n",
       "      <td>7360.63</td>\n",
       "      <td>0.0</td>\n",
       "      <td>1</td>\n",
       "      <td>0</td>\n",
       "      <td>0.0</td>\n",
       "    </tr>\n",
       "    <tr>\n",
       "      <th>107771</th>\n",
       "      <td>2011-02-07</td>\n",
       "      <td>1</td>\n",
       "      <td>7029.0</td>\n",
       "      <td>6743.86</td>\n",
       "      <td>3.0</td>\n",
       "      <td>2</td>\n",
       "      <td>0</td>\n",
       "      <td>21087.0</td>\n",
       "    </tr>\n",
       "    <tr>\n",
       "      <th>107785</th>\n",
       "      <td>2011-02-21</td>\n",
       "      <td>1</td>\n",
       "      <td>7029.0</td>\n",
       "      <td>7243.03</td>\n",
       "      <td>1.0</td>\n",
       "      <td>2</td>\n",
       "      <td>0</td>\n",
       "      <td>7029.0</td>\n",
       "    </tr>\n",
       "    <tr>\n",
       "      <th>107818</th>\n",
       "      <td>2011-03-26</td>\n",
       "      <td>1</td>\n",
       "      <td>7029.0</td>\n",
       "      <td>7746.10</td>\n",
       "      <td>0.0</td>\n",
       "      <td>3</td>\n",
       "      <td>5</td>\n",
       "      <td>0.0</td>\n",
       "    </tr>\n",
       "    <tr>\n",
       "      <th>107736</th>\n",
       "      <td>2011-01-03</td>\n",
       "      <td>1</td>\n",
       "      <td>7030.0</td>\n",
       "      <td>7571.14</td>\n",
       "      <td>2.0</td>\n",
       "      <td>1</td>\n",
       "      <td>0</td>\n",
       "      <td>14060.0</td>\n",
       "    </tr>\n",
       "    <tr>\n",
       "      <th>...</th>\n",
       "      <td>...</td>\n",
       "      <td>...</td>\n",
       "      <td>...</td>\n",
       "      <td>...</td>\n",
       "      <td>...</td>\n",
       "      <td>...</td>\n",
       "      <td>...</td>\n",
       "      <td>...</td>\n",
       "    </tr>\n",
       "    <tr>\n",
       "      <th>108749</th>\n",
       "      <td>2013-10-12</td>\n",
       "      <td>1</td>\n",
       "      <td>15403.0</td>\n",
       "      <td>16459.05</td>\n",
       "      <td>0.0</td>\n",
       "      <td>10</td>\n",
       "      <td>5</td>\n",
       "      <td>0.0</td>\n",
       "    </tr>\n",
       "    <tr>\n",
       "      <th>108167</th>\n",
       "      <td>2012-03-09</td>\n",
       "      <td>1</td>\n",
       "      <td>15406.0</td>\n",
       "      <td>16884.16</td>\n",
       "      <td>0.0</td>\n",
       "      <td>3</td>\n",
       "      <td>4</td>\n",
       "      <td>0.0</td>\n",
       "    </tr>\n",
       "    <tr>\n",
       "      <th>109126</th>\n",
       "      <td>2014-10-24</td>\n",
       "      <td>1</td>\n",
       "      <td>15449.0</td>\n",
       "      <td>15240.21</td>\n",
       "      <td>0.0</td>\n",
       "      <td>10</td>\n",
       "      <td>4</td>\n",
       "      <td>0.0</td>\n",
       "    </tr>\n",
       "    <tr>\n",
       "      <th>108903</th>\n",
       "      <td>2014-03-15</td>\n",
       "      <td>1</td>\n",
       "      <td>15545.0</td>\n",
       "      <td>14973.14</td>\n",
       "      <td>0.0</td>\n",
       "      <td>3</td>\n",
       "      <td>5</td>\n",
       "      <td>0.0</td>\n",
       "    </tr>\n",
       "    <tr>\n",
       "      <th>108031</th>\n",
       "      <td>2011-10-25</td>\n",
       "      <td>1</td>\n",
       "      <td>15689.0</td>\n",
       "      <td>16391.23</td>\n",
       "      <td>0.0</td>\n",
       "      <td>10</td>\n",
       "      <td>1</td>\n",
       "      <td>0.0</td>\n",
       "    </tr>\n",
       "    <tr>\n",
       "      <th>109104</th>\n",
       "      <td>2014-10-02</td>\n",
       "      <td>1</td>\n",
       "      <td>15999.0</td>\n",
       "      <td>15433.93</td>\n",
       "      <td>0.0</td>\n",
       "      <td>10</td>\n",
       "      <td>3</td>\n",
       "      <td>0.0</td>\n",
       "    </tr>\n",
       "    <tr>\n",
       "      <th>108397</th>\n",
       "      <td>2012-10-25</td>\n",
       "      <td>1</td>\n",
       "      <td>16036.0</td>\n",
       "      <td>16530.52</td>\n",
       "      <td>1.0</td>\n",
       "      <td>10</td>\n",
       "      <td>3</td>\n",
       "      <td>16036.0</td>\n",
       "    </tr>\n",
       "    <tr>\n",
       "      <th>108417</th>\n",
       "      <td>2012-11-14</td>\n",
       "      <td>1</td>\n",
       "      <td>16133.0</td>\n",
       "      <td>14362.50</td>\n",
       "      <td>3.0</td>\n",
       "      <td>11</td>\n",
       "      <td>2</td>\n",
       "      <td>48399.0</td>\n",
       "    </tr>\n",
       "    <tr>\n",
       "      <th>109508</th>\n",
       "      <td>2015-11-10</td>\n",
       "      <td>1</td>\n",
       "      <td>16284.0</td>\n",
       "      <td>18163.22</td>\n",
       "      <td>2.0</td>\n",
       "      <td>11</td>\n",
       "      <td>1</td>\n",
       "      <td>32568.0</td>\n",
       "    </tr>\n",
       "    <tr>\n",
       "      <th>108415</th>\n",
       "      <td>2012-11-12</td>\n",
       "      <td>1</td>\n",
       "      <td>16344.0</td>\n",
       "      <td>17326.31</td>\n",
       "      <td>0.0</td>\n",
       "      <td>11</td>\n",
       "      <td>0</td>\n",
       "      <td>0.0</td>\n",
       "    </tr>\n",
       "    <tr>\n",
       "      <th>108751</th>\n",
       "      <td>2013-10-14</td>\n",
       "      <td>1</td>\n",
       "      <td>16351.0</td>\n",
       "      <td>17755.36</td>\n",
       "      <td>0.0</td>\n",
       "      <td>10</td>\n",
       "      <td>0</td>\n",
       "      <td>0.0</td>\n",
       "    </tr>\n",
       "    <tr>\n",
       "      <th>108770</th>\n",
       "      <td>2013-11-02</td>\n",
       "      <td>1</td>\n",
       "      <td>16360.0</td>\n",
       "      <td>15971.33</td>\n",
       "      <td>1.0</td>\n",
       "      <td>11</td>\n",
       "      <td>5</td>\n",
       "      <td>16360.0</td>\n",
       "    </tr>\n",
       "    <tr>\n",
       "      <th>109490</th>\n",
       "      <td>2015-10-23</td>\n",
       "      <td>1</td>\n",
       "      <td>16633.0</td>\n",
       "      <td>14953.93</td>\n",
       "      <td>0.0</td>\n",
       "      <td>10</td>\n",
       "      <td>4</td>\n",
       "      <td>0.0</td>\n",
       "    </tr>\n",
       "    <tr>\n",
       "      <th>108905</th>\n",
       "      <td>2014-03-17</td>\n",
       "      <td>1</td>\n",
       "      <td>16952.0</td>\n",
       "      <td>16545.81</td>\n",
       "      <td>0.0</td>\n",
       "      <td>3</td>\n",
       "      <td>0</td>\n",
       "      <td>0.0</td>\n",
       "    </tr>\n",
       "    <tr>\n",
       "      <th>108030</th>\n",
       "      <td>2011-10-24</td>\n",
       "      <td>1</td>\n",
       "      <td>17183.0</td>\n",
       "      <td>18170.14</td>\n",
       "      <td>0.0</td>\n",
       "      <td>10</td>\n",
       "      <td>0</td>\n",
       "      <td>0.0</td>\n",
       "    </tr>\n",
       "    <tr>\n",
       "      <th>108034</th>\n",
       "      <td>2011-10-28</td>\n",
       "      <td>1</td>\n",
       "      <td>17382.0</td>\n",
       "      <td>17139.41</td>\n",
       "      <td>2.0</td>\n",
       "      <td>10</td>\n",
       "      <td>4</td>\n",
       "      <td>34764.0</td>\n",
       "    </tr>\n",
       "    <tr>\n",
       "      <th>109259</th>\n",
       "      <td>2015-03-06</td>\n",
       "      <td>1</td>\n",
       "      <td>17668.0</td>\n",
       "      <td>17444.51</td>\n",
       "      <td>1.0</td>\n",
       "      <td>3</td>\n",
       "      <td>4</td>\n",
       "      <td>17668.0</td>\n",
       "    </tr>\n",
       "    <tr>\n",
       "      <th>109124</th>\n",
       "      <td>2014-10-22</td>\n",
       "      <td>1</td>\n",
       "      <td>17812.0</td>\n",
       "      <td>18233.72</td>\n",
       "      <td>1.0</td>\n",
       "      <td>10</td>\n",
       "      <td>2</td>\n",
       "      <td>17812.0</td>\n",
       "    </tr>\n",
       "    <tr>\n",
       "      <th>109106</th>\n",
       "      <td>2014-10-04</td>\n",
       "      <td>1</td>\n",
       "      <td>17937.0</td>\n",
       "      <td>17802.88</td>\n",
       "      <td>1.0</td>\n",
       "      <td>10</td>\n",
       "      <td>5</td>\n",
       "      <td>17937.0</td>\n",
       "    </tr>\n",
       "    <tr>\n",
       "      <th>109257</th>\n",
       "      <td>2015-03-04</td>\n",
       "      <td>1</td>\n",
       "      <td>18038.0</td>\n",
       "      <td>19301.46</td>\n",
       "      <td>0.0</td>\n",
       "      <td>3</td>\n",
       "      <td>2</td>\n",
       "      <td>0.0</td>\n",
       "    </tr>\n",
       "    <tr>\n",
       "      <th>108414</th>\n",
       "      <td>2012-11-11</td>\n",
       "      <td>1</td>\n",
       "      <td>18647.0</td>\n",
       "      <td>18139.20</td>\n",
       "      <td>2.0</td>\n",
       "      <td>11</td>\n",
       "      <td>6</td>\n",
       "      <td>37294.0</td>\n",
       "    </tr>\n",
       "    <tr>\n",
       "      <th>109510</th>\n",
       "      <td>2015-11-12</td>\n",
       "      <td>1</td>\n",
       "      <td>19070.0</td>\n",
       "      <td>18317.68</td>\n",
       "      <td>1.0</td>\n",
       "      <td>11</td>\n",
       "      <td>3</td>\n",
       "      <td>19070.0</td>\n",
       "    </tr>\n",
       "    <tr>\n",
       "      <th>109488</th>\n",
       "      <td>2015-10-21</td>\n",
       "      <td>1</td>\n",
       "      <td>19357.0</td>\n",
       "      <td>18887.60</td>\n",
       "      <td>0.0</td>\n",
       "      <td>10</td>\n",
       "      <td>2</td>\n",
       "      <td>0.0</td>\n",
       "    </tr>\n",
       "    <tr>\n",
       "      <th>108769</th>\n",
       "      <td>2013-11-01</td>\n",
       "      <td>1</td>\n",
       "      <td>20318.0</td>\n",
       "      <td>19289.19</td>\n",
       "      <td>0.0</td>\n",
       "      <td>11</td>\n",
       "      <td>4</td>\n",
       "      <td>0.0</td>\n",
       "    </tr>\n",
       "    <tr>\n",
       "      <th>108418</th>\n",
       "      <td>2012-11-15</td>\n",
       "      <td>1</td>\n",
       "      <td>20804.0</td>\n",
       "      <td>22241.97</td>\n",
       "      <td>0.0</td>\n",
       "      <td>11</td>\n",
       "      <td>3</td>\n",
       "      <td>0.0</td>\n",
       "    </tr>\n",
       "    <tr>\n",
       "      <th>109127</th>\n",
       "      <td>2014-10-25</td>\n",
       "      <td>1</td>\n",
       "      <td>21493.0</td>\n",
       "      <td>22653.70</td>\n",
       "      <td>0.0</td>\n",
       "      <td>10</td>\n",
       "      <td>5</td>\n",
       "      <td>0.0</td>\n",
       "    </tr>\n",
       "    <tr>\n",
       "      <th>109123</th>\n",
       "      <td>2014-10-21</td>\n",
       "      <td>1</td>\n",
       "      <td>21788.0</td>\n",
       "      <td>20313.77</td>\n",
       "      <td>0.0</td>\n",
       "      <td>10</td>\n",
       "      <td>1</td>\n",
       "      <td>0.0</td>\n",
       "    </tr>\n",
       "    <tr>\n",
       "      <th>108773</th>\n",
       "      <td>2013-11-05</td>\n",
       "      <td>1</td>\n",
       "      <td>21844.0</td>\n",
       "      <td>22898.24</td>\n",
       "      <td>0.0</td>\n",
       "      <td>11</td>\n",
       "      <td>1</td>\n",
       "      <td>0.0</td>\n",
       "    </tr>\n",
       "    <tr>\n",
       "      <th>109507</th>\n",
       "      <td>2015-11-09</td>\n",
       "      <td>1</td>\n",
       "      <td>22274.0</td>\n",
       "      <td>24006.71</td>\n",
       "      <td>0.0</td>\n",
       "      <td>11</td>\n",
       "      <td>0</td>\n",
       "      <td>0.0</td>\n",
       "    </tr>\n",
       "    <tr>\n",
       "      <th>109511</th>\n",
       "      <td>2015-11-13</td>\n",
       "      <td>1</td>\n",
       "      <td>23865.0</td>\n",
       "      <td>23194.12</td>\n",
       "      <td>2.0</td>\n",
       "      <td>11</td>\n",
       "      <td>4</td>\n",
       "      <td>47730.0</td>\n",
       "    </tr>\n",
       "  </tbody>\n",
       "</table>\n",
       "<p>1826 rows × 8 columns</p>\n",
       "</div>"
      ],
      "text/plain": [
       "         Dep_Date  Days_to_Depart    Price  Comptt_Price_Median  Bookings  \\\n",
       "107742 2011-01-09               1   6956.0              7149.48       1.0   \n",
       "107753 2011-01-20               1   6978.0              6467.30       2.0   \n",
       "107737 2011-01-04               1   6987.0              6764.26       1.0   \n",
       "107740 2011-01-07               1   6987.0              7498.09       0.0   \n",
       "107762 2011-01-29               1   6995.0              6739.83       0.0   \n",
       "107741 2011-01-08               1   6997.0              7035.37       0.0   \n",
       "107738 2011-01-05               1   6999.0              6963.67       0.0   \n",
       "107748 2011-01-15               1   7001.0              7687.86       0.0   \n",
       "107787 2011-02-23               1   7002.0              7502.28       0.0   \n",
       "107754 2011-01-21               1   7004.0              7634.06       0.0   \n",
       "107744 2011-01-11               1   7004.0              7117.23       0.0   \n",
       "107773 2011-02-09               1   7005.0              7370.09       0.0   \n",
       "107757 2011-01-24               1   7005.0              7317.69       0.0   \n",
       "107735 2011-01-02               1   7005.0              6526.02       0.0   \n",
       "107749 2011-01-16               1   7006.0              7001.42       0.0   \n",
       "107739 2011-01-06               1   7006.0              6976.05       0.0   \n",
       "107745 2011-01-12               1   7008.0              7115.60       0.0   \n",
       "107750 2011-01-17               1   7008.0              6962.77       0.0   \n",
       "107779 2011-02-15               1   7008.0              6554.98       0.0   \n",
       "107756 2011-01-23               1   7014.0              7222.10       0.0   \n",
       "107767 2011-02-03               1   7014.0              6949.18       2.0   \n",
       "107765 2011-02-01               1   7020.0              7592.64       2.0   \n",
       "107747 2011-01-14               1   7022.0              6964.68       0.0   \n",
       "107778 2011-02-14               1   7023.0              7274.88       0.0   \n",
       "107794 2011-03-02               1   7025.0              6830.77       0.0   \n",
       "107743 2011-01-10               1   7028.0              7360.63       0.0   \n",
       "107771 2011-02-07               1   7029.0              6743.86       3.0   \n",
       "107785 2011-02-21               1   7029.0              7243.03       1.0   \n",
       "107818 2011-03-26               1   7029.0              7746.10       0.0   \n",
       "107736 2011-01-03               1   7030.0              7571.14       2.0   \n",
       "...           ...             ...      ...                  ...       ...   \n",
       "108749 2013-10-12               1  15403.0             16459.05       0.0   \n",
       "108167 2012-03-09               1  15406.0             16884.16       0.0   \n",
       "109126 2014-10-24               1  15449.0             15240.21       0.0   \n",
       "108903 2014-03-15               1  15545.0             14973.14       0.0   \n",
       "108031 2011-10-25               1  15689.0             16391.23       0.0   \n",
       "109104 2014-10-02               1  15999.0             15433.93       0.0   \n",
       "108397 2012-10-25               1  16036.0             16530.52       1.0   \n",
       "108417 2012-11-14               1  16133.0             14362.50       3.0   \n",
       "109508 2015-11-10               1  16284.0             18163.22       2.0   \n",
       "108415 2012-11-12               1  16344.0             17326.31       0.0   \n",
       "108751 2013-10-14               1  16351.0             17755.36       0.0   \n",
       "108770 2013-11-02               1  16360.0             15971.33       1.0   \n",
       "109490 2015-10-23               1  16633.0             14953.93       0.0   \n",
       "108905 2014-03-17               1  16952.0             16545.81       0.0   \n",
       "108030 2011-10-24               1  17183.0             18170.14       0.0   \n",
       "108034 2011-10-28               1  17382.0             17139.41       2.0   \n",
       "109259 2015-03-06               1  17668.0             17444.51       1.0   \n",
       "109124 2014-10-22               1  17812.0             18233.72       1.0   \n",
       "109106 2014-10-04               1  17937.0             17802.88       1.0   \n",
       "109257 2015-03-04               1  18038.0             19301.46       0.0   \n",
       "108414 2012-11-11               1  18647.0             18139.20       2.0   \n",
       "109510 2015-11-12               1  19070.0             18317.68       1.0   \n",
       "109488 2015-10-21               1  19357.0             18887.60       0.0   \n",
       "108769 2013-11-01               1  20318.0             19289.19       0.0   \n",
       "108418 2012-11-15               1  20804.0             22241.97       0.0   \n",
       "109127 2014-10-25               1  21493.0             22653.70       0.0   \n",
       "109123 2014-10-21               1  21788.0             20313.77       0.0   \n",
       "108773 2013-11-05               1  21844.0             22898.24       0.0   \n",
       "109507 2015-11-09               1  22274.0             24006.71       0.0   \n",
       "109511 2015-11-13               1  23865.0             23194.12       2.0   \n",
       "\n",
       "        month  weekday    Sales  \n",
       "107742      1        6   6956.0  \n",
       "107753      1        3  13956.0  \n",
       "107737      1        1   6987.0  \n",
       "107740      1        4      0.0  \n",
       "107762      1        5      0.0  \n",
       "107741      1        5      0.0  \n",
       "107738      1        2      0.0  \n",
       "107748      1        5      0.0  \n",
       "107787      2        2      0.0  \n",
       "107754      1        4      0.0  \n",
       "107744      1        1      0.0  \n",
       "107773      2        2      0.0  \n",
       "107757      1        0      0.0  \n",
       "107735      1        6      0.0  \n",
       "107749      1        6      0.0  \n",
       "107739      1        3      0.0  \n",
       "107745      1        2      0.0  \n",
       "107750      1        0      0.0  \n",
       "107779      2        1      0.0  \n",
       "107756      1        6      0.0  \n",
       "107767      2        3  14028.0  \n",
       "107765      2        1  14040.0  \n",
       "107747      1        4      0.0  \n",
       "107778      2        0      0.0  \n",
       "107794      3        2      0.0  \n",
       "107743      1        0      0.0  \n",
       "107771      2        0  21087.0  \n",
       "107785      2        0   7029.0  \n",
       "107818      3        5      0.0  \n",
       "107736      1        0  14060.0  \n",
       "...       ...      ...      ...  \n",
       "108749     10        5      0.0  \n",
       "108167      3        4      0.0  \n",
       "109126     10        4      0.0  \n",
       "108903      3        5      0.0  \n",
       "108031     10        1      0.0  \n",
       "109104     10        3      0.0  \n",
       "108397     10        3  16036.0  \n",
       "108417     11        2  48399.0  \n",
       "109508     11        1  32568.0  \n",
       "108415     11        0      0.0  \n",
       "108751     10        0      0.0  \n",
       "108770     11        5  16360.0  \n",
       "109490     10        4      0.0  \n",
       "108905      3        0      0.0  \n",
       "108030     10        0      0.0  \n",
       "108034     10        4  34764.0  \n",
       "109259      3        4  17668.0  \n",
       "109124     10        2  17812.0  \n",
       "109106     10        5  17937.0  \n",
       "109257      3        2      0.0  \n",
       "108414     11        6  37294.0  \n",
       "109510     11        3  19070.0  \n",
       "109488     10        2      0.0  \n",
       "108769     11        4      0.0  \n",
       "108418     11        3      0.0  \n",
       "109127     10        5      0.0  \n",
       "109123     10        1      0.0  \n",
       "108773     11        1      0.0  \n",
       "109507     11        0      0.0  \n",
       "109511     11        4  47730.0  \n",
       "\n",
       "[1826 rows x 8 columns]"
      ]
     },
     "execution_count": 82,
     "metadata": {},
     "output_type": "execute_result"
    }
   ],
   "source": [
    "df[df.Days_to_Depart==1].sort_values('Price')"
   ]
  },
  {
   "cell_type": "code",
   "execution_count": 85,
   "metadata": {},
   "outputs": [
    {
     "data": {
      "text/plain": [
       "<matplotlib.axes._subplots.AxesSubplot at 0x14d9d8e9c50>"
      ]
     },
     "execution_count": 85,
     "metadata": {},
     "output_type": "execute_result"
    },
    {
     "data": {
      "image/png": "[encoded data removed]",
      "text/plain": [
       "<Figure size 432x288 with 1 Axes>"
      ]
     },
     "metadata": {
      "needs_background": "light"
     },
     "output_type": "display_data"
    }
   ],
   "source": [
    "sns.distplot(lower_priced['Sales'])"
   ]
  },
  {
   "cell_type": "code",
   "execution_count": 87,
   "metadata": {},
   "outputs": [
    {
     "data": {
      "text/plain": [
       "<seaborn.axisgrid.PairGrid at 0x14d9d84b668>"
      ]
     },
     "execution_count": 87,
     "metadata": {},
     "output_type": "execute_result"
    },
    {
     "data": {
      "image/png": "[encoded data removed]",
      "text/plain": [
       "<Figure size 360x360 with 6 Axes>"
      ]
     },
     "metadata": {
      "needs_background": "light"
     },
     "output_type": "display_data"
    }
   ],
   "source": [
    "sns.pairplot(df[['Price','Sales']])"
   ]
  },
  {
   "cell_type": "code",
   "execution_count": 94,
   "metadata": {},
   "outputs": [],
   "source": [
    "df['Difference_To_Market'] = df.Price - df.Comptt_Price_Median"
   ]
  },
  {
   "cell_type": "code",
   "execution_count": 88,
   "metadata": {},
   "outputs": [
    {
     "data": {
      "text/plain": [
       "Index(['Dep_Date', 'Days_to_Depart', 'Price', 'Comptt_Price_Median',\n",
       "       'Bookings', 'month', 'weekday', 'Sales'],\n",
       "      dtype='object')"
      ]
     },
     "execution_count": 88,
     "metadata": {},
     "output_type": "execute_result"
    }
   ],
   "source": [
    "df.columns"
   ]
  },
  {
   "cell_type": "code",
   "execution_count": null,
   "metadata": {},
   "outputs": [],
   "source": []
  },
  {
   "cell_type": "code",
   "execution_count": null,
   "metadata": {},
   "outputs": [],
   "source": []
  },
  {
   "cell_type": "code",
   "execution_count": null,
   "metadata": {},
   "outputs": [],
   "source": []
  },
  {
   "cell_type": "code",
   "execution_count": null,
   "metadata": {},
   "outputs": [],
   "source": []
  },
  {
   "cell_type": "code",
   "execution_count": 93,
   "metadata": {},
   "outputs": [
    {
     "data": {
      "text/plain": [
       "<BarContainer object of 5 artists>"
      ]
     },
     "execution_count": 93,
     "metadata": {},
     "output_type": "execute_result"
    },
    {
     "data": {
      "image/png": "[encoded data removed]",
      "text/plain": [
       "<Figure size 432x288 with 1 Axes>"
      ]
     },
     "metadata": {
      "needs_background": "light"
     },
     "output_type": "display_data"
    }
   ],
   "source": [
    "plt.bar([1,3,5,7,9],[5,2,7,8,2], label=\"Example one\")\n",
    "plt.bar([1,3,5,7,9],[6,1,8,9,3], label=\"Example one\", color='g')"
   ]
  },
  {
   "cell_type": "code",
   "execution_count": null,
   "metadata": {},
   "outputs": [],
   "source": []
  }
 ],
 "metadata": {
  "kernelspec": {
   "display_name": "Python 3",
   "language": "python",
   "name": "python3"
  },
  "language_info": {
   "codemirror_mode": {
    "name": "ipython",
    "version": 3
   },
   "file_extension": ".py",
   "mimetype": "text/x-python",
   "name": "python",
   "nbconvert_exporter": "python",
   "pygments_lexer": "ipython3",
   "version": "3.6.8"
  }
 },
 "nbformat": 4,
 "nbformat_minor": 2
}
